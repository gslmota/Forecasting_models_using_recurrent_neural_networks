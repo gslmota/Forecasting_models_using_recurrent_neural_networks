{
  "nbformat": 4,
  "nbformat_minor": 0,
  "metadata": {
    "colab": {
      "provenance": []
    },
    "kernelspec": {
      "name": "python3",
      "display_name": "Python 3"
    },
    "accelerator": "GPU"
  },
  "cells": [
    {
      "cell_type": "markdown",
      "metadata": {
        "id": "5tP2BcEILoLB"
      },
      "source": [
        "## Etapa 1: Importação das bibliotecas"
      ]
    },
    {
      "cell_type": "code",
      "metadata": {
        "id": "Yf0FpJ35Lf-Z",
        "outputId": "66eb34f6-6012-44da-fd1f-4480c10b625e",
        "colab": {
          "base_uri": "https://localhost:8080/",
          "height": 36
        }
      },
      "source": [
        "import numpy as np\n",
        "import pandas as pd\n",
        "from sklearn.preprocessing import MinMaxScaler\n",
        "import matplotlib.pyplot as plt\n",
        "import torch\n",
        "from torch import nn, optim\n",
        "from sklearn.metrics import mean_absolute_error\n",
        "torch.__version__"
      ],
      "execution_count": null,
      "outputs": [
        {
          "output_type": "execute_result",
          "data": {
            "text/plain": [
              "'1.13.1+cu116'"
            ],
            "application/vnd.google.colaboratory.intrinsic+json": {
              "type": "string"
            }
          },
          "metadata": {},
          "execution_count": 1
        }
      ]
    },
    {
      "cell_type": "code",
      "metadata": {
        "id": "X1vw_qANCnRx",
        "outputId": "4e358385-6832-4da8-8039-e54f909216fa",
        "colab": {
          "base_uri": "https://localhost:8080/"
        }
      },
      "source": [
        "torch.manual_seed(123)"
      ],
      "execution_count": null,
      "outputs": [
        {
          "output_type": "execute_result",
          "data": {
            "text/plain": [
              "<torch._C.Generator at 0x7f64180bcc30>"
            ]
          },
          "metadata": {},
          "execution_count": 2
        }
      ]
    },
    {
      "cell_type": "code",
      "source": [
        "from google.colab import drive\n",
        "drive.mount('/content/drive')"
      ],
      "metadata": {
        "colab": {
          "base_uri": "https://localhost:8080/"
        },
        "id": "vzLeVLy4AmSN",
        "outputId": "c8e4f3f3-0dda-496d-f711-4ca5a5b4d468"
      },
      "execution_count": null,
      "outputs": [
        {
          "output_type": "stream",
          "name": "stdout",
          "text": [
            "Mounted at /content/drive\n"
          ]
        }
      ]
    },
    {
      "cell_type": "markdown",
      "metadata": {
        "id": "C0SD4dJ4MDMN"
      },
      "source": [
        "## Etapa 2: Base de dados"
      ]
    },
    {
      "cell_type": "code",
      "metadata": {
        "id": "kPclooeTA_15"
      },
      "source": [
        "base = pd.read_csv('/content/drive/MyDrive/Deep Learing de A à Z com PyTorch/Bases/petr4_treinamento.csv')\n",
        "base = base.dropna()\n",
        "base_train = base.iloc[:, 1:3].values"
      ],
      "execution_count": null,
      "outputs": []
    },
    {
      "cell_type": "code",
      "metadata": {
        "id": "zeAUr9LL1Qov",
        "outputId": "847e765b-d073-4de2-d6bd-6591e482d3fd",
        "colab": {
          "base_uri": "https://localhost:8080/"
        }
      },
      "source": [
        "base.head()"
      ],
      "execution_count": null,
      "outputs": [
        {
          "output_type": "execute_result",
          "data": {
            "text/plain": [
              "         Date       Open       High        Low      Close  Adj Close  \\\n",
              "0  2013-01-02  19.990000  20.209999  19.690001  19.690001  18.086271   \n",
              "1  2013-01-03  19.809999  20.400000  19.700001  20.400000  18.738441   \n",
              "2  2013-01-04  20.330000  20.620001  20.170000  20.430000  18.766001   \n",
              "3  2013-01-07  20.480000  20.670000  19.950001  20.080000  18.444506   \n",
              "4  2013-01-08  20.110001  20.230000  19.459999  19.500000  17.911745   \n",
              "\n",
              "       Volume  \n",
              "0  30182600.0  \n",
              "1  30552600.0  \n",
              "2  36141000.0  \n",
              "3  28069600.0  \n",
              "4  29091300.0  "
            ],
            "text/html": [
              "\n",
              "  <div id=\"df-dba8c0d4-bd9d-438d-95d9-3ac1cf412c6b\">\n",
              "    <div class=\"colab-df-container\">\n",
              "      <div>\n",
              "<style scoped>\n",
              "    .dataframe tbody tr th:only-of-type {\n",
              "        vertical-align: middle;\n",
              "    }\n",
              "\n",
              "    .dataframe tbody tr th {\n",
              "        vertical-align: top;\n",
              "    }\n",
              "\n",
              "    .dataframe thead th {\n",
              "        text-align: right;\n",
              "    }\n",
              "</style>\n",
              "<table border=\"1\" class=\"dataframe\">\n",
              "  <thead>\n",
              "    <tr style=\"text-align: right;\">\n",
              "      <th></th>\n",
              "      <th>Date</th>\n",
              "      <th>Open</th>\n",
              "      <th>High</th>\n",
              "      <th>Low</th>\n",
              "      <th>Close</th>\n",
              "      <th>Adj Close</th>\n",
              "      <th>Volume</th>\n",
              "    </tr>\n",
              "  </thead>\n",
              "  <tbody>\n",
              "    <tr>\n",
              "      <th>0</th>\n",
              "      <td>2013-01-02</td>\n",
              "      <td>19.990000</td>\n",
              "      <td>20.209999</td>\n",
              "      <td>19.690001</td>\n",
              "      <td>19.690001</td>\n",
              "      <td>18.086271</td>\n",
              "      <td>30182600.0</td>\n",
              "    </tr>\n",
              "    <tr>\n",
              "      <th>1</th>\n",
              "      <td>2013-01-03</td>\n",
              "      <td>19.809999</td>\n",
              "      <td>20.400000</td>\n",
              "      <td>19.700001</td>\n",
              "      <td>20.400000</td>\n",
              "      <td>18.738441</td>\n",
              "      <td>30552600.0</td>\n",
              "    </tr>\n",
              "    <tr>\n",
              "      <th>2</th>\n",
              "      <td>2013-01-04</td>\n",
              "      <td>20.330000</td>\n",
              "      <td>20.620001</td>\n",
              "      <td>20.170000</td>\n",
              "      <td>20.430000</td>\n",
              "      <td>18.766001</td>\n",
              "      <td>36141000.0</td>\n",
              "    </tr>\n",
              "    <tr>\n",
              "      <th>3</th>\n",
              "      <td>2013-01-07</td>\n",
              "      <td>20.480000</td>\n",
              "      <td>20.670000</td>\n",
              "      <td>19.950001</td>\n",
              "      <td>20.080000</td>\n",
              "      <td>18.444506</td>\n",
              "      <td>28069600.0</td>\n",
              "    </tr>\n",
              "    <tr>\n",
              "      <th>4</th>\n",
              "      <td>2013-01-08</td>\n",
              "      <td>20.110001</td>\n",
              "      <td>20.230000</td>\n",
              "      <td>19.459999</td>\n",
              "      <td>19.500000</td>\n",
              "      <td>17.911745</td>\n",
              "      <td>29091300.0</td>\n",
              "    </tr>\n",
              "  </tbody>\n",
              "</table>\n",
              "</div>\n",
              "      <button class=\"colab-df-convert\" onclick=\"convertToInteractive('df-dba8c0d4-bd9d-438d-95d9-3ac1cf412c6b')\"\n",
              "              title=\"Convert this dataframe to an interactive table.\"\n",
              "              style=\"display:none;\">\n",
              "        \n",
              "  <svg xmlns=\"http://www.w3.org/2000/svg\" height=\"24px\"viewBox=\"0 0 24 24\"\n",
              "       width=\"24px\">\n",
              "    <path d=\"M0 0h24v24H0V0z\" fill=\"none\"/>\n",
              "    <path d=\"M18.56 5.44l.94 2.06.94-2.06 2.06-.94-2.06-.94-.94-2.06-.94 2.06-2.06.94zm-11 1L8.5 8.5l.94-2.06 2.06-.94-2.06-.94L8.5 2.5l-.94 2.06-2.06.94zm10 10l.94 2.06.94-2.06 2.06-.94-2.06-.94-.94-2.06-.94 2.06-2.06.94z\"/><path d=\"M17.41 7.96l-1.37-1.37c-.4-.4-.92-.59-1.43-.59-.52 0-1.04.2-1.43.59L10.3 9.45l-7.72 7.72c-.78.78-.78 2.05 0 2.83L4 21.41c.39.39.9.59 1.41.59.51 0 1.02-.2 1.41-.59l7.78-7.78 2.81-2.81c.8-.78.8-2.07 0-2.86zM5.41 20L4 18.59l7.72-7.72 1.47 1.35L5.41 20z\"/>\n",
              "  </svg>\n",
              "      </button>\n",
              "      \n",
              "  <style>\n",
              "    .colab-df-container {\n",
              "      display:flex;\n",
              "      flex-wrap:wrap;\n",
              "      gap: 12px;\n",
              "    }\n",
              "\n",
              "    .colab-df-convert {\n",
              "      background-color: #E8F0FE;\n",
              "      border: none;\n",
              "      border-radius: 50%;\n",
              "      cursor: pointer;\n",
              "      display: none;\n",
              "      fill: #1967D2;\n",
              "      height: 32px;\n",
              "      padding: 0 0 0 0;\n",
              "      width: 32px;\n",
              "    }\n",
              "\n",
              "    .colab-df-convert:hover {\n",
              "      background-color: #E2EBFA;\n",
              "      box-shadow: 0px 1px 2px rgba(60, 64, 67, 0.3), 0px 1px 3px 1px rgba(60, 64, 67, 0.15);\n",
              "      fill: #174EA6;\n",
              "    }\n",
              "\n",
              "    [theme=dark] .colab-df-convert {\n",
              "      background-color: #3B4455;\n",
              "      fill: #D2E3FC;\n",
              "    }\n",
              "\n",
              "    [theme=dark] .colab-df-convert:hover {\n",
              "      background-color: #434B5C;\n",
              "      box-shadow: 0px 1px 3px 1px rgba(0, 0, 0, 0.15);\n",
              "      filter: drop-shadow(0px 1px 2px rgba(0, 0, 0, 0.3));\n",
              "      fill: #FFFFFF;\n",
              "    }\n",
              "  </style>\n",
              "\n",
              "      <script>\n",
              "        const buttonEl =\n",
              "          document.querySelector('#df-dba8c0d4-bd9d-438d-95d9-3ac1cf412c6b button.colab-df-convert');\n",
              "        buttonEl.style.display =\n",
              "          google.colab.kernel.accessAllowed ? 'block' : 'none';\n",
              "\n",
              "        async function convertToInteractive(key) {\n",
              "          const element = document.querySelector('#df-dba8c0d4-bd9d-438d-95d9-3ac1cf412c6b');\n",
              "          const dataTable =\n",
              "            await google.colab.kernel.invokeFunction('convertToInteractive',\n",
              "                                                     [key], {});\n",
              "          if (!dataTable) return;\n",
              "\n",
              "          const docLinkHtml = 'Like what you see? Visit the ' +\n",
              "            '<a target=\"_blank\" href=https://colab.research.google.com/notebooks/data_table.ipynb>data table notebook</a>'\n",
              "            + ' to learn more about interactive tables.';\n",
              "          element.innerHTML = '';\n",
              "          dataTable['output_type'] = 'display_data';\n",
              "          await google.colab.output.renderOutput(dataTable, element);\n",
              "          const docLink = document.createElement('div');\n",
              "          docLink.innerHTML = docLinkHtml;\n",
              "          element.appendChild(docLink);\n",
              "        }\n",
              "      </script>\n",
              "    </div>\n",
              "  </div>\n",
              "  "
            ]
          },
          "metadata": {},
          "execution_count": 5
        }
      ]
    },
    {
      "cell_type": "code",
      "metadata": {
        "id": "lK2tI5UQ1Nr0",
        "outputId": "1fd988b5-f52b-41cc-cd92-5c878ea1ef98",
        "colab": {
          "base_uri": "https://localhost:8080/"
        }
      },
      "source": [
        "base_train"
      ],
      "execution_count": null,
      "outputs": [
        {
          "output_type": "execute_result",
          "data": {
            "text/plain": [
              "array([[19.99    , 20.209999],\n",
              "       [19.809999, 20.4     ],\n",
              "       [20.33    , 20.620001],\n",
              "       ...,\n",
              "       [15.99    , 16.139999],\n",
              "       [16.1     , 16.129999],\n",
              "       [16.1     , 16.1     ]])"
            ]
          },
          "metadata": {},
          "execution_count": 6
        }
      ]
    },
    {
      "cell_type": "code",
      "metadata": {
        "id": "Pn5zULhciUTc"
      },
      "source": [
        "normalizador = MinMaxScaler(feature_range = (0, 1))\n",
        "base_train_norm = normalizador.fit_transform(base_train)"
      ],
      "execution_count": null,
      "outputs": []
    },
    {
      "cell_type": "code",
      "metadata": {
        "id": "WNzijlDYBIm1"
      },
      "source": [
        "X = []\n",
        "y = []\n",
        "for i in range(90, 1242):\n",
        "    X.append(base_train_norm[i-90:i, 0])\n",
        "    y.append(base_train_norm[i, 0:2]) # `y` terá duas colunas\n",
        "X, y = np.array(X), np.array(y)"
      ],
      "execution_count": null,
      "outputs": []
    },
    {
      "cell_type": "code",
      "metadata": {
        "id": "16aRpDcU1l7C",
        "outputId": "daea00c9-42c2-4e07-ab4b-b64f0f0d3fd0",
        "colab": {
          "base_uri": "https://localhost:8080/"
        }
      },
      "source": [
        "X[0]"
      ],
      "execution_count": null,
      "outputs": [
        {
          "output_type": "execute_result",
          "data": {
            "text/plain": [
              "array([0.76501938, 0.7562984 , 0.78149225, 0.78875969, 0.77083338,\n",
              "       0.74806197, 0.75436047, 0.75823643, 0.76598837, 0.76598837,\n",
              "       0.76017437, 0.75872098, 0.75581391, 0.74467054, 0.7374031 ,\n",
              "       0.7374031 , 0.73498067, 0.75242248, 0.73401163, 0.71656977,\n",
              "       0.68120155, 0.67538755, 0.67635659, 0.63372098, 0.66521318,\n",
              "       0.65649225, 0.64680228, 0.66618222, 0.65843028, 0.64970935,\n",
              "       0.65116274, 0.66424419, 0.67344961, 0.64292631, 0.64486434,\n",
              "       0.62257747, 0.60949617, 0.60998067, 0.60852713, 0.59593023,\n",
              "       0.61143411, 0.60222863, 0.64922481, 0.68362398, 0.70687989,\n",
              "       0.68265509, 0.70978682, 0.70784879, 0.71608527, 0.73643411,\n",
              "       0.7122093 , 0.7122093 , 0.7194767 , 0.70348832, 0.69525189,\n",
              "       0.70397287, 0.70397287, 0.69767442, 0.68168605, 0.68168605,\n",
              "       0.65310078, 0.66618222, 0.64825581, 0.66182175, 0.64341085,\n",
              "       0.67877902, 0.69137592, 0.66569772, 0.65406982, 0.64292631,\n",
              "       0.64147292, 0.63565891, 0.67587209, 0.68653106, 0.70300383,\n",
              "       0.71996119, 0.73982553, 0.76550388, 0.74854651, 0.75823643,\n",
              "       0.78924419, 0.76598837, 0.78488372, 0.80184109, 0.77761628,\n",
              "       0.77325581, 0.7562984 , 0.74273261, 0.74127907, 0.74224806])"
            ]
          },
          "metadata": {},
          "execution_count": 9
        }
      ]
    },
    {
      "cell_type": "code",
      "metadata": {
        "id": "aV-TBKCt1pQl",
        "outputId": "a2c9e5f5-475b-40b7-b3ab-fdebc94bd257",
        "colab": {
          "base_uri": "https://localhost:8080/"
        }
      },
      "source": [
        "y[0]"
      ],
      "execution_count": null,
      "outputs": [
        {
          "output_type": "execute_result",
          "data": {
            "text/plain": [
              "array([0.76114341, 0.76490543])"
            ]
          },
          "metadata": {},
          "execution_count": 10
        }
      ]
    },
    {
      "cell_type": "code",
      "metadata": {
        "id": "yB8bdsAUjIIo"
      },
      "source": [
        "X = torch.tensor(X, dtype = torch.float32)\n",
        "y = torch.tensor(y, dtype = torch.float32)"
      ],
      "execution_count": null,
      "outputs": []
    },
    {
      "cell_type": "code",
      "metadata": {
        "id": "ggEPQWi2jKyr"
      },
      "source": [
        "dataset = torch.utils.data.TensorDataset(X, y)\n",
        "loader = torch.utils.data.DataLoader(dataset, batch_size = 32, shuffle = True)"
      ],
      "execution_count": null,
      "outputs": []
    },
    {
      "cell_type": "markdown",
      "metadata": {
        "id": "QGDLesyDQpIb"
      },
      "source": [
        "## Etapa 3: Construção da rede neural recorrente"
      ]
    },
    {
      "cell_type": "code",
      "metadata": {
        "id": "VrFGMM3Qiboh"
      },
      "source": [
        "class regressor_LSTM(nn.Module):\n",
        "    def __init__(self):\n",
        "        super().__init__()\n",
        "        \n",
        "        self.lstm1 = nn.LSTM(input_size = 1, hidden_size = 100, batch_first = True)\n",
        "        self.lstm2 = nn.LSTM(100, 50, batch_first = True)\n",
        "        self.lstm3 = nn.LSTM(50, 50, dropout = 0.3, num_layers = 2, batch_first = True)\n",
        "        self.dropout = nn.Dropout(p = 0.3)\n",
        "        self.linear = nn.Linear(in_features = 50, out_features = 2)\n",
        "        \n",
        "    def forward(self, X):\n",
        "        X = X.unsqueeze(2)\n",
        "        X, _ = self.lstm1(X)\n",
        "        X = self.dropout(X)\n",
        "        X, _ = self.lstm2(X)\n",
        "        X = self.dropout(X)\n",
        "        X, _ = self.lstm3(X)\n",
        "        \n",
        "        X = X[:, -1, :]\n",
        "        X = self.dropout(X)\n",
        "        X = self.linear(X)\n",
        "       \n",
        "        return X"
      ],
      "execution_count": null,
      "outputs": []
    },
    {
      "cell_type": "code",
      "metadata": {
        "id": "yY9lDtY8BqnE",
        "outputId": "0f19d7f8-0d5d-45f2-9c64-4d230ccf06c2",
        "colab": {
          "base_uri": "https://localhost:8080/"
        }
      },
      "source": [
        "device = torch.device('cuda') if torch.cuda.is_available() else torch.device('cpu')\n",
        "device"
      ],
      "execution_count": null,
      "outputs": [
        {
          "output_type": "execute_result",
          "data": {
            "text/plain": [
              "device(type='cuda')"
            ]
          },
          "metadata": {},
          "execution_count": 14
        }
      ]
    },
    {
      "cell_type": "code",
      "metadata": {
        "id": "-FnosQO7BspO",
        "outputId": "540d8a35-0857-4b41-9dad-268b6e5dae5a",
        "colab": {
          "base_uri": "https://localhost:8080/"
        }
      },
      "source": [
        "regressor = regressor_LSTM()\n",
        "criterion = nn.MSELoss()\n",
        "optimizer = optim.RMSprop(regressor.parameters(), lr = 1e-3, alpha = 0.9)\n",
        "regressor.to(device)"
      ],
      "execution_count": null,
      "outputs": [
        {
          "output_type": "execute_result",
          "data": {
            "text/plain": [
              "regressor_LSTM(\n",
              "  (lstm1): LSTM(1, 100, batch_first=True)\n",
              "  (lstm2): LSTM(100, 50, batch_first=True)\n",
              "  (lstm3): LSTM(50, 50, num_layers=2, batch_first=True, dropout=0.3)\n",
              "  (dropout): Dropout(p=0.3, inplace=False)\n",
              "  (linear): Linear(in_features=50, out_features=2, bias=True)\n",
              ")"
            ]
          },
          "metadata": {},
          "execution_count": 15
        }
      ]
    },
    {
      "cell_type": "markdown",
      "metadata": {
        "id": "appMwDHtRTN5"
      },
      "source": [
        "## Etapa 4: Treinamento do modelo"
      ]
    },
    {
      "cell_type": "code",
      "metadata": {
        "id": "OxqnJdUsELbQ",
        "outputId": "6ff80d5e-b491-49c8-d03e-2b4b8fbb9483",
        "colab": {
          "base_uri": "https://localhost:8080/"
        }
      },
      "source": [
        "for epoch in range(100):\n",
        "    running_loss = 0.\n",
        "    running_mae = 0.\n",
        "          \n",
        "    for i, data in enumerate(loader):\n",
        "        inputs, labels = data\n",
        "        inputs, labels = inputs.to(device), labels.to(device)\n",
        "        \n",
        "        optimizer.zero_grad()\n",
        "        \n",
        "        outputs = regressor(inputs)\n",
        "        loss = criterion(outputs, labels)\n",
        "        loss.backward()\n",
        "        \n",
        "        optimizer.step()\n",
        "    \n",
        "        running_loss += loss.item()\n",
        "        \n",
        "        mae = mean_absolute_error(labels.detach().cpu().numpy().flatten(), \n",
        "                                  outputs.detach().cpu().numpy().flatten())\n",
        "        running_mae += mae\n",
        "        \n",
        "        # Imprimindo os dados referentes a esse loop\n",
        "        print('\\rÉpoca {:3d} - Loop {:3d} de {:3d}: custo {:03.5f} - MAE {:03.5f}'.format(epoch + 1, i + 1, len(loader), loss, mae), end = '\\r')\n",
        "    \n",
        "    # Imprimindo os dados referentes a essa época\n",
        "    running_loss /= len(loader)\n",
        "    running_mae /= len(loader)\n",
        "    print('ÉPOCA {:3d} FINALIZADA: custo {:03.6f} - MAE {:03.6f}     '.format(epoch + 1, running_loss, running_mae))\n"
      ],
      "execution_count": null,
      "outputs": [
        {
          "output_type": "stream",
          "name": "stdout",
          "text": [
            "ÉPOCA   1 FINALIZADA: custo 0.061615 - MAE 0.194932     \n",
            "ÉPOCA   2 FINALIZADA: custo 0.030491 - MAE 0.139691     \n",
            "ÉPOCA   3 FINALIZADA: custo 0.020149 - MAE 0.113854     \n",
            "ÉPOCA   4 FINALIZADA: custo 0.015799 - MAE 0.099659     \n",
            "ÉPOCA   5 FINALIZADA: custo 0.013676 - MAE 0.090054     \n",
            "ÉPOCA   6 FINALIZADA: custo 0.011103 - MAE 0.082214     \n",
            "ÉPOCA   7 FINALIZADA: custo 0.010327 - MAE 0.078298     \n",
            "ÉPOCA   8 FINALIZADA: custo 0.009395 - MAE 0.075753     \n",
            "ÉPOCA   9 FINALIZADA: custo 0.008561 - MAE 0.071927     \n",
            "ÉPOCA  10 FINALIZADA: custo 0.007425 - MAE 0.066929     \n",
            "ÉPOCA  11 FINALIZADA: custo 0.007567 - MAE 0.067030     \n",
            "ÉPOCA  12 FINALIZADA: custo 0.006788 - MAE 0.063605     \n",
            "ÉPOCA  13 FINALIZADA: custo 0.006883 - MAE 0.064191     \n",
            "ÉPOCA  14 FINALIZADA: custo 0.005814 - MAE 0.058622     \n",
            "ÉPOCA  15 FINALIZADA: custo 0.005662 - MAE 0.058444     \n",
            "ÉPOCA  16 FINALIZADA: custo 0.005975 - MAE 0.058660     \n",
            "ÉPOCA  17 FINALIZADA: custo 0.005149 - MAE 0.055734     \n",
            "ÉPOCA  18 FINALIZADA: custo 0.004880 - MAE 0.054032     \n",
            "ÉPOCA  19 FINALIZADA: custo 0.005177 - MAE 0.056168     \n",
            "ÉPOCA  20 FINALIZADA: custo 0.004618 - MAE 0.052739     \n",
            "ÉPOCA  21 FINALIZADA: custo 0.004874 - MAE 0.053849     \n",
            "ÉPOCA  22 FINALIZADA: custo 0.004220 - MAE 0.049559     \n",
            "ÉPOCA  23 FINALIZADA: custo 0.004305 - MAE 0.051425     \n",
            "ÉPOCA  24 FINALIZADA: custo 0.004532 - MAE 0.051839     \n",
            "ÉPOCA  25 FINALIZADA: custo 0.004240 - MAE 0.050663     \n",
            "ÉPOCA  26 FINALIZADA: custo 0.003757 - MAE 0.047179     \n",
            "ÉPOCA  27 FINALIZADA: custo 0.003931 - MAE 0.047778     \n",
            "ÉPOCA  28 FINALIZADA: custo 0.003839 - MAE 0.048510     \n",
            "ÉPOCA  29 FINALIZADA: custo 0.003628 - MAE 0.046439     \n",
            "ÉPOCA  30 FINALIZADA: custo 0.003192 - MAE 0.043823     \n",
            "ÉPOCA  31 FINALIZADA: custo 0.003748 - MAE 0.047063     \n",
            "ÉPOCA  32 FINALIZADA: custo 0.003249 - MAE 0.043991     \n",
            "ÉPOCA  33 FINALIZADA: custo 0.003629 - MAE 0.045712     \n",
            "ÉPOCA  34 FINALIZADA: custo 0.003360 - MAE 0.044364     \n",
            "ÉPOCA  35 FINALIZADA: custo 0.003014 - MAE 0.042609     \n",
            "ÉPOCA  36 FINALIZADA: custo 0.003354 - MAE 0.044446     \n",
            "ÉPOCA  37 FINALIZADA: custo 0.003133 - MAE 0.043373     \n",
            "ÉPOCA  38 FINALIZADA: custo 0.002836 - MAE 0.041168     \n",
            "ÉPOCA  39 FINALIZADA: custo 0.002660 - MAE 0.040046     \n",
            "ÉPOCA  40 FINALIZADA: custo 0.002889 - MAE 0.041536     \n",
            "ÉPOCA  41 FINALIZADA: custo 0.002917 - MAE 0.041411     \n",
            "ÉPOCA  42 FINALIZADA: custo 0.002636 - MAE 0.039369     \n",
            "ÉPOCA  43 FINALIZADA: custo 0.002634 - MAE 0.038912     \n",
            "ÉPOCA  44 FINALIZADA: custo 0.002661 - MAE 0.039123     \n",
            "ÉPOCA  45 FINALIZADA: custo 0.002625 - MAE 0.039874     \n",
            "ÉPOCA  46 FINALIZADA: custo 0.002458 - MAE 0.038079     \n",
            "ÉPOCA  47 FINALIZADA: custo 0.002393 - MAE 0.037852     \n",
            "ÉPOCA  48 FINALIZADA: custo 0.002476 - MAE 0.038431     \n",
            "ÉPOCA  49 FINALIZADA: custo 0.002519 - MAE 0.037298     \n",
            "ÉPOCA  50 FINALIZADA: custo 0.002423 - MAE 0.037747     \n",
            "ÉPOCA  51 FINALIZADA: custo 0.002336 - MAE 0.036489     \n",
            "ÉPOCA  52 FINALIZADA: custo 0.002247 - MAE 0.036018     \n",
            "ÉPOCA  53 FINALIZADA: custo 0.002214 - MAE 0.036372     \n",
            "ÉPOCA  54 FINALIZADA: custo 0.002270 - MAE 0.036875     \n",
            "ÉPOCA  55 FINALIZADA: custo 0.002403 - MAE 0.037250     \n",
            "ÉPOCA  56 FINALIZADA: custo 0.002299 - MAE 0.036354     \n",
            "ÉPOCA  57 FINALIZADA: custo 0.002176 - MAE 0.035651     \n",
            "ÉPOCA  58 FINALIZADA: custo 0.002141 - MAE 0.034990     \n",
            "ÉPOCA  59 FINALIZADA: custo 0.002028 - MAE 0.034607     \n",
            "ÉPOCA  60 FINALIZADA: custo 0.002093 - MAE 0.034782     \n",
            "ÉPOCA  61 FINALIZADA: custo 0.002273 - MAE 0.035914     \n",
            "ÉPOCA  62 FINALIZADA: custo 0.002299 - MAE 0.036418     \n",
            "ÉPOCA  63 FINALIZADA: custo 0.002342 - MAE 0.036582     \n",
            "ÉPOCA  64 FINALIZADA: custo 0.002007 - MAE 0.033799     \n",
            "ÉPOCA  65 FINALIZADA: custo 0.001981 - MAE 0.033995     \n",
            "ÉPOCA  66 FINALIZADA: custo 0.001790 - MAE 0.032664     \n",
            "ÉPOCA  67 FINALIZADA: custo 0.001849 - MAE 0.033444     \n",
            "ÉPOCA  68 FINALIZADA: custo 0.002093 - MAE 0.034146     \n",
            "ÉPOCA  69 FINALIZADA: custo 0.001906 - MAE 0.033794     \n",
            "ÉPOCA  70 FINALIZADA: custo 0.001951 - MAE 0.032999     \n",
            "ÉPOCA  71 FINALIZADA: custo 0.001898 - MAE 0.033434     \n",
            "ÉPOCA  72 FINALIZADA: custo 0.001876 - MAE 0.032371     \n",
            "ÉPOCA  73 FINALIZADA: custo 0.001947 - MAE 0.033448     \n",
            "ÉPOCA  74 FINALIZADA: custo 0.001835 - MAE 0.032711     \n",
            "ÉPOCA  75 FINALIZADA: custo 0.001821 - MAE 0.031932     \n",
            "ÉPOCA  76 FINALIZADA: custo 0.001775 - MAE 0.031717     \n",
            "ÉPOCA  77 FINALIZADA: custo 0.001907 - MAE 0.032908     \n",
            "ÉPOCA  78 FINALIZADA: custo 0.001807 - MAE 0.032192     \n",
            "ÉPOCA  79 FINALIZADA: custo 0.001783 - MAE 0.031856     \n",
            "ÉPOCA  80 FINALIZADA: custo 0.001712 - MAE 0.031493     \n",
            "ÉPOCA  81 FINALIZADA: custo 0.001789 - MAE 0.031928     \n",
            "ÉPOCA  82 FINALIZADA: custo 0.001647 - MAE 0.031091     \n",
            "ÉPOCA  83 FINALIZADA: custo 0.001771 - MAE 0.031446     \n",
            "ÉPOCA  84 FINALIZADA: custo 0.001701 - MAE 0.031376     \n",
            "ÉPOCA  85 FINALIZADA: custo 0.001655 - MAE 0.031291     \n",
            "ÉPOCA  86 FINALIZADA: custo 0.001593 - MAE 0.029877     \n",
            "ÉPOCA  87 FINALIZADA: custo 0.001652 - MAE 0.030761     \n",
            "ÉPOCA  88 FINALIZADA: custo 0.001713 - MAE 0.031848     \n",
            "ÉPOCA  89 FINALIZADA: custo 0.001510 - MAE 0.029663     \n",
            "ÉPOCA  90 FINALIZADA: custo 0.001582 - MAE 0.029930     \n",
            "ÉPOCA  91 FINALIZADA: custo 0.001732 - MAE 0.031538     \n",
            "ÉPOCA  92 FINALIZADA: custo 0.001692 - MAE 0.030700     \n",
            "ÉPOCA  93 FINALIZADA: custo 0.001498 - MAE 0.028944     \n",
            "ÉPOCA  94 FINALIZADA: custo 0.001580 - MAE 0.029981     \n",
            "ÉPOCA  95 FINALIZADA: custo 0.001695 - MAE 0.031250     \n",
            "ÉPOCA  96 FINALIZADA: custo 0.001607 - MAE 0.029278     \n",
            "ÉPOCA  97 FINALIZADA: custo 0.001526 - MAE 0.029901     \n",
            "ÉPOCA  98 FINALIZADA: custo 0.001578 - MAE 0.029838     \n",
            "ÉPOCA  99 FINALIZADA: custo 0.001372 - MAE 0.027614     \n",
            "ÉPOCA 100 FINALIZADA: custo 0.001661 - MAE 0.030942     \n"
          ]
        }
      ]
    },
    {
      "cell_type": "markdown",
      "metadata": {
        "id": "AyTjLzELSdQF"
      },
      "source": [
        "## Etapa 5: Processamento da base de teste"
      ]
    },
    {
      "cell_type": "code",
      "metadata": {
        "id": "wMRlArb6oqnk"
      },
      "source": [
        "base_teste = pd.read_csv('/content/drive/MyDrive/Deep Learing de A à Z com PyTorch/Bases/petr4_teste.csv')\n",
        "base_completa = pd.concat((base['Open'], base_teste['Open']), axis = 0)\n",
        "entradas = base_completa[len(base_completa) - len(base_teste) - 90:].values\n",
        "entradas = entradas.reshape(-1, 1)"
      ],
      "execution_count": null,
      "outputs": []
    },
    {
      "cell_type": "code",
      "metadata": {
        "id": "sV7qQBWo2irk"
      },
      "source": [
        "normalizador = MinMaxScaler().fit(base_train[:, 0:1])\n",
        "entradas = normalizador.transform(entradas)"
      ],
      "execution_count": null,
      "outputs": []
    },
    {
      "cell_type": "code",
      "metadata": {
        "id": "TtNdrpjHlOKF"
      },
      "source": [
        "X_teste = []\n",
        "for i in range(90, 112):\n",
        "    X_teste.append(entradas[i-90:i, 0])\n",
        "X_teste = np.array(X_teste)"
      ],
      "execution_count": null,
      "outputs": []
    },
    {
      "cell_type": "code",
      "metadata": {
        "id": "xaeaQifp2nJ5"
      },
      "source": [
        "X_teste = torch.tensor(X_teste, device = device, dtype = torch.float32)"
      ],
      "execution_count": null,
      "outputs": []
    },
    {
      "cell_type": "markdown",
      "metadata": {
        "id": "2kcTr4ikoM3k"
      },
      "source": [
        "## Etapa 6: Previsões"
      ]
    },
    {
      "cell_type": "code",
      "metadata": {
        "id": "-yHMN7P7lkm5"
      },
      "source": [
        "regressor.eval()\n",
        "previsoes = regressor(X_teste)\n",
        "previsoes = previsoes.detach().cpu().numpy()\n",
        "previsoes = normalizador.inverse_transform(previsoes)"
      ],
      "execution_count": null,
      "outputs": []
    },
    {
      "cell_type": "code",
      "metadata": {
        "id": "NwqzuTVOnANw",
        "outputId": "8f0a2e29-f023-4426-cd63-3e8f2abde792",
        "colab": {
          "base_uri": "https://localhost:8080/"
        }
      },
      "source": [
        "previsoes"
      ],
      "execution_count": null,
      "outputs": [
        {
          "output_type": "execute_result",
          "data": {
            "text/plain": [
              "array([[16.161297, 16.379658],\n",
              "       [16.227999, 16.447514],\n",
              "       [16.488827, 16.712276],\n",
              "       [16.803686, 17.032284],\n",
              "       [16.819077, 17.04876 ],\n",
              "       [16.82348 , 17.053534],\n",
              "       [17.05826 , 17.291882],\n",
              "       [17.052397, 17.286528],\n",
              "       [16.991768, 17.225172],\n",
              "       [17.101688, 17.336636],\n",
              "       [17.367876, 17.60699 ],\n",
              "       [17.464722, 17.705967],\n",
              "       [17.91879 , 18.16726 ],\n",
              "       [18.392485, 18.64947 ],\n",
              "       [18.458168, 18.717863],\n",
              "       [18.401596, 18.661186],\n",
              "       [18.494263, 18.755455],\n",
              "       [18.543459, 18.805788],\n",
              "       [19.267443, 19.541246],\n",
              "       [19.673681, 19.956171],\n",
              "       [19.76584 , 20.051771],\n",
              "       [19.84591 , 20.134157]], dtype=float32)"
            ]
          },
          "metadata": {},
          "execution_count": 22
        }
      ]
    },
    {
      "cell_type": "code",
      "metadata": {
        "id": "Mfa8jkyO26On",
        "outputId": "86d43983-251b-44e6-f1ee-9d00f9346ca9",
        "colab": {
          "base_uri": "https://localhost:8080/"
        }
      },
      "source": [
        "previsoes.mean(axis = 0)"
      ],
      "execution_count": null,
      "outputs": [
        {
          "output_type": "execute_result",
          "data": {
            "text/plain": [
              "array([17.778305, 18.0258  ], dtype=float32)"
            ]
          },
          "metadata": {},
          "execution_count": 23
        }
      ]
    },
    {
      "cell_type": "code",
      "metadata": {
        "id": "jVnqiLwP3Dq4",
        "outputId": "63f01195-311a-445c-ef69-10843fe72ec2",
        "colab": {
          "base_uri": "https://localhost:8080/"
        }
      },
      "source": [
        "base_teste['Open'].mean()"
      ],
      "execution_count": null,
      "outputs": [
        {
          "output_type": "execute_result",
          "data": {
            "text/plain": [
              "17.87454563636364"
            ]
          },
          "metadata": {},
          "execution_count": 24
        }
      ]
    },
    {
      "cell_type": "code",
      "metadata": {
        "id": "jxF4Jzbs3YGd",
        "outputId": "2a33d14f-3b44-42d9-a528-6410fc172947",
        "colab": {
          "base_uri": "https://localhost:8080/"
        }
      },
      "source": [
        "base_teste['High'].mean()"
      ],
      "execution_count": null,
      "outputs": [
        {
          "output_type": "execute_result",
          "data": {
            "text/plain": [
              "18.148181636363635"
            ]
          },
          "metadata": {},
          "execution_count": 25
        }
      ]
    },
    {
      "cell_type": "code",
      "metadata": {
        "id": "P2YZ7NIu21Jr",
        "outputId": "3e65237b-0d1e-413d-d217-9bf8c9093b30",
        "colab": {
          "base_uri": "https://localhost:8080/"
        }
      },
      "source": [
        "fig, ax = plt.subplots(1, 2, figsize = (10, 5))\n",
        "fig.suptitle('Previsão preço das ações')\n",
        "\n",
        "ax[0].plot(base_teste['Open'], color = 'red', label = 'Preço abertura real')\n",
        "ax[0].plot(previsoes[:, 0], color = 'blue', label = 'Previsões abertura')\n",
        "ax[0].set_title('Preço de abertura')\n",
        "ax[0].set_xlabel('Tempo')\n",
        "ax[0].set_ylabel('Valor Yahoo')\n",
        "ax[0].legend()\n",
        "\n",
        "ax[1].plot(base_teste['High'], color = 'black', label = 'Preço alta real')\n",
        "ax[1].plot(previsoes[:, 1], color = 'orange', label = 'Previsões alta')\n",
        "ax[1].set_title('Preço de alta')\n",
        "ax[1].set_xlabel('Tempo')\n",
        "ax[1].set_ylabel('Valor Yahoo')\n",
        "ax[1].legend()"
      ],
      "execution_count": null,
      "outputs": [
        {
          "output_type": "execute_result",
          "data": {
            "text/plain": [
              "<matplotlib.legend.Legend at 0x7f63fdd60490>"
            ]
          },
          "metadata": {},
          "execution_count": 26
        },
        {
          "output_type": "display_data",
          "data": {
            "text/plain": [
              "<Figure size 720x360 with 2 Axes>"
            ],
            "image/png": "[encoded data removed]"
          },
          "metadata": {
            "needs_background": "light"
          }
        }
      ]
    }
  ]
}