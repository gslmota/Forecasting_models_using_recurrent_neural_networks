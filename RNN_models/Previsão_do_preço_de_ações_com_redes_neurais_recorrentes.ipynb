{
  "nbformat": 4,
  "nbformat_minor": 0,
  "metadata": {
    "colab": {
      "provenance": []
    },
    "kernelspec": {
      "name": "python3",
      "display_name": "Python 3"
    },
    "accelerator": "GPU"
  },
  "cells": [
    {
      "cell_type": "markdown",
      "metadata": {
        "id": "5tP2BcEILoLB"
      },
      "source": [
        "## Etapa 1: Importação das bibliotecas"
      ]
    },
    {
      "cell_type": "code",
      "metadata": {
        "id": "Yf0FpJ35Lf-Z",
        "outputId": "2709c1c1-885c-4ab2-feab-16af6f707e4b",
        "colab": {
          "base_uri": "https://localhost:8080/",
          "height": 36
        }
      },
      "source": [
        "import numpy as np\n",
        "import pandas as pd\n",
        "from sklearn.preprocessing import MinMaxScaler\n",
        "import matplotlib.pyplot as plt\n",
        "import torch\n",
        "from torch import nn, optim\n",
        "from sklearn.metrics import mean_absolute_error\n",
        "torch.__version__"
      ],
      "execution_count": null,
      "outputs": [
        {
          "output_type": "execute_result",
          "data": {
            "text/plain": [
              "'1.13.1+cu116'"
            ],
            "application/vnd.google.colaboratory.intrinsic+json": {
              "type": "string"
            }
          },
          "metadata": {},
          "execution_count": 1
        }
      ]
    },
    {
      "cell_type": "code",
      "metadata": {
        "id": "X1vw_qANCnRx",
        "outputId": "2c1d6cdc-9669-4d7e-b9e3-573d201dcfb0",
        "colab": {
          "base_uri": "https://localhost:8080/"
        }
      },
      "source": [
        "torch.manual_seed(123)"
      ],
      "execution_count": null,
      "outputs": [
        {
          "output_type": "execute_result",
          "data": {
            "text/plain": [
              "<torch._C.Generator at 0x7f69a6fb0a50>"
            ]
          },
          "metadata": {},
          "execution_count": 2
        }
      ]
    },
    {
      "cell_type": "code",
      "source": [
        "from google.colab import drive\n",
        "drive.mount('/content/drive')"
      ],
      "metadata": {
        "colab": {
          "base_uri": "https://localhost:8080/"
        },
        "id": "sHfnFG1jtvZx",
        "outputId": "9affabcd-9be7-4d91-c4a1-5bb6297f7269"
      },
      "execution_count": null,
      "outputs": [
        {
          "output_type": "stream",
          "name": "stdout",
          "text": [
            "Mounted at /content/drive\n"
          ]
        }
      ]
    },
    {
      "cell_type": "markdown",
      "metadata": {
        "id": "C0SD4dJ4MDMN"
      },
      "source": [
        "## Etapa 2: Base de dados"
      ]
    },
    {
      "cell_type": "code",
      "metadata": {
        "id": "ucYGZD8uX4TA"
      },
      "source": [
        "base = pd.read_csv('/content/drive/MyDrive/Deep Learing de A à Z com PyTorch/Bases/petr4_treinamento.csv')"
      ],
      "execution_count": null,
      "outputs": []
    },
    {
      "cell_type": "code",
      "metadata": {
        "id": "6lKEclZLYHLl",
        "outputId": "7c68e747-3f42-400b-9fe3-7d66ab468130",
        "colab": {
          "base_uri": "https://localhost:8080/",
          "height": 206
        }
      },
      "source": [
        "base.head()"
      ],
      "execution_count": null,
      "outputs": [
        {
          "output_type": "execute_result",
          "data": {
            "text/plain": [
              "         Date       Open       High        Low      Close  Adj Close  \\\n",
              "0  2013-01-02  19.990000  20.209999  19.690001  19.690001  18.086271   \n",
              "1  2013-01-03  19.809999  20.400000  19.700001  20.400000  18.738441   \n",
              "2  2013-01-04  20.330000  20.620001  20.170000  20.430000  18.766001   \n",
              "3  2013-01-07  20.480000  20.670000  19.950001  20.080000  18.444506   \n",
              "4  2013-01-08  20.110001  20.230000  19.459999  19.500000  17.911745   \n",
              "\n",
              "       Volume  \n",
              "0  30182600.0  \n",
              "1  30552600.0  \n",
              "2  36141000.0  \n",
              "3  28069600.0  \n",
              "4  29091300.0  "
            ],
            "text/html": [
              "\n",
              "  <div id=\"df-52f65ebd-fdef-465e-aa1c-43692e00cdfd\">\n",
              "    <div class=\"colab-df-container\">\n",
              "      <div>\n",
              "<style scoped>\n",
              "    .dataframe tbody tr th:only-of-type {\n",
              "        vertical-align: middle;\n",
              "    }\n",
              "\n",
              "    .dataframe tbody tr th {\n",
              "        vertical-align: top;\n",
              "    }\n",
              "\n",
              "    .dataframe thead th {\n",
              "        text-align: right;\n",
              "    }\n",
              "</style>\n",
              "<table border=\"1\" class=\"dataframe\">\n",
              "  <thead>\n",
              "    <tr style=\"text-align: right;\">\n",
              "      <th></th>\n",
              "      <th>Date</th>\n",
              "      <th>Open</th>\n",
              "      <th>High</th>\n",
              "      <th>Low</th>\n",
              "      <th>Close</th>\n",
              "      <th>Adj Close</th>\n",
              "      <th>Volume</th>\n",
              "    </tr>\n",
              "  </thead>\n",
              "  <tbody>\n",
              "    <tr>\n",
              "      <th>0</th>\n",
              "      <td>2013-01-02</td>\n",
              "      <td>19.990000</td>\n",
              "      <td>20.209999</td>\n",
              "      <td>19.690001</td>\n",
              "      <td>19.690001</td>\n",
              "      <td>18.086271</td>\n",
              "      <td>30182600.0</td>\n",
              "    </tr>\n",
              "    <tr>\n",
              "      <th>1</th>\n",
              "      <td>2013-01-03</td>\n",
              "      <td>19.809999</td>\n",
              "      <td>20.400000</td>\n",
              "      <td>19.700001</td>\n",
              "      <td>20.400000</td>\n",
              "      <td>18.738441</td>\n",
              "      <td>30552600.0</td>\n",
              "    </tr>\n",
              "    <tr>\n",
              "      <th>2</th>\n",
              "      <td>2013-01-04</td>\n",
              "      <td>20.330000</td>\n",
              "      <td>20.620001</td>\n",
              "      <td>20.170000</td>\n",
              "      <td>20.430000</td>\n",
              "      <td>18.766001</td>\n",
              "      <td>36141000.0</td>\n",
              "    </tr>\n",
              "    <tr>\n",
              "      <th>3</th>\n",
              "      <td>2013-01-07</td>\n",
              "      <td>20.480000</td>\n",
              "      <td>20.670000</td>\n",
              "      <td>19.950001</td>\n",
              "      <td>20.080000</td>\n",
              "      <td>18.444506</td>\n",
              "      <td>28069600.0</td>\n",
              "    </tr>\n",
              "    <tr>\n",
              "      <th>4</th>\n",
              "      <td>2013-01-08</td>\n",
              "      <td>20.110001</td>\n",
              "      <td>20.230000</td>\n",
              "      <td>19.459999</td>\n",
              "      <td>19.500000</td>\n",
              "      <td>17.911745</td>\n",
              "      <td>29091300.0</td>\n",
              "    </tr>\n",
              "  </tbody>\n",
              "</table>\n",
              "</div>\n",
              "      <button class=\"colab-df-convert\" onclick=\"convertToInteractive('df-52f65ebd-fdef-465e-aa1c-43692e00cdfd')\"\n",
              "              title=\"Convert this dataframe to an interactive table.\"\n",
              "              style=\"display:none;\">\n",
              "        \n",
              "  <svg xmlns=\"http://www.w3.org/2000/svg\" height=\"24px\"viewBox=\"0 0 24 24\"\n",
              "       width=\"24px\">\n",
              "    <path d=\"M0 0h24v24H0V0z\" fill=\"none\"/>\n",
              "    <path d=\"M18.56 5.44l.94 2.06.94-2.06 2.06-.94-2.06-.94-.94-2.06-.94 2.06-2.06.94zm-11 1L8.5 8.5l.94-2.06 2.06-.94-2.06-.94L8.5 2.5l-.94 2.06-2.06.94zm10 10l.94 2.06.94-2.06 2.06-.94-2.06-.94-.94-2.06-.94 2.06-2.06.94z\"/><path d=\"M17.41 7.96l-1.37-1.37c-.4-.4-.92-.59-1.43-.59-.52 0-1.04.2-1.43.59L10.3 9.45l-7.72 7.72c-.78.78-.78 2.05 0 2.83L4 21.41c.39.39.9.59 1.41.59.51 0 1.02-.2 1.41-.59l7.78-7.78 2.81-2.81c.8-.78.8-2.07 0-2.86zM5.41 20L4 18.59l7.72-7.72 1.47 1.35L5.41 20z\"/>\n",
              "  </svg>\n",
              "      </button>\n",
              "      \n",
              "  <style>\n",
              "    .colab-df-container {\n",
              "      display:flex;\n",
              "      flex-wrap:wrap;\n",
              "      gap: 12px;\n",
              "    }\n",
              "\n",
              "    .colab-df-convert {\n",
              "      background-color: #E8F0FE;\n",
              "      border: none;\n",
              "      border-radius: 50%;\n",
              "      cursor: pointer;\n",
              "      display: none;\n",
              "      fill: #1967D2;\n",
              "      height: 32px;\n",
              "      padding: 0 0 0 0;\n",
              "      width: 32px;\n",
              "    }\n",
              "\n",
              "    .colab-df-convert:hover {\n",
              "      background-color: #E2EBFA;\n",
              "      box-shadow: 0px 1px 2px rgba(60, 64, 67, 0.3), 0px 1px 3px 1px rgba(60, 64, 67, 0.15);\n",
              "      fill: #174EA6;\n",
              "    }\n",
              "\n",
              "    [theme=dark] .colab-df-convert {\n",
              "      background-color: #3B4455;\n",
              "      fill: #D2E3FC;\n",
              "    }\n",
              "\n",
              "    [theme=dark] .colab-df-convert:hover {\n",
              "      background-color: #434B5C;\n",
              "      box-shadow: 0px 1px 3px 1px rgba(0, 0, 0, 0.15);\n",
              "      filter: drop-shadow(0px 1px 2px rgba(0, 0, 0, 0.3));\n",
              "      fill: #FFFFFF;\n",
              "    }\n",
              "  </style>\n",
              "\n",
              "      <script>\n",
              "        const buttonEl =\n",
              "          document.querySelector('#df-52f65ebd-fdef-465e-aa1c-43692e00cdfd button.colab-df-convert');\n",
              "        buttonEl.style.display =\n",
              "          google.colab.kernel.accessAllowed ? 'block' : 'none';\n",
              "\n",
              "        async function convertToInteractive(key) {\n",
              "          const element = document.querySelector('#df-52f65ebd-fdef-465e-aa1c-43692e00cdfd');\n",
              "          const dataTable =\n",
              "            await google.colab.kernel.invokeFunction('convertToInteractive',\n",
              "                                                     [key], {});\n",
              "          if (!dataTable) return;\n",
              "\n",
              "          const docLinkHtml = 'Like what you see? Visit the ' +\n",
              "            '<a target=\"_blank\" href=https://colab.research.google.com/notebooks/data_table.ipynb>data table notebook</a>'\n",
              "            + ' to learn more about interactive tables.';\n",
              "          element.innerHTML = '';\n",
              "          dataTable['output_type'] = 'display_data';\n",
              "          await google.colab.output.renderOutput(dataTable, element);\n",
              "          const docLink = document.createElement('div');\n",
              "          docLink.innerHTML = docLinkHtml;\n",
              "          element.appendChild(docLink);\n",
              "        }\n",
              "      </script>\n",
              "    </div>\n",
              "  </div>\n",
              "  "
            ]
          },
          "metadata": {},
          "execution_count": 7
        }
      ]
    },
    {
      "cell_type": "code",
      "metadata": {
        "id": "5PIj8QmAYVhZ",
        "outputId": "06e98194-8530-48a8-839b-846df6d833ea",
        "colab": {
          "base_uri": "https://localhost:8080/",
          "height": 206
        }
      },
      "source": [
        "base.tail()"
      ],
      "execution_count": null,
      "outputs": [
        {
          "output_type": "execute_result",
          "data": {
            "text/plain": [
              "            Date   Open       High    Low      Close  Adj Close      Volume\n",
              "1240  2017-12-25  15.75  15.750000  15.75  15.750000  15.718563         0.0\n",
              "1241  2017-12-26  15.75  15.990000  15.69  15.970000  15.938125  22173100.0\n",
              "1242  2017-12-27  15.99  16.139999  15.98  16.049999  16.017963  23552200.0\n",
              "1243  2017-12-28  16.10  16.129999  16.00  16.100000  16.067865  19011500.0\n",
              "1244  2017-12-29  16.10  16.100000  16.10  16.100000  16.067865         0.0"
            ],
            "text/html": [
              "\n",
              "  <div id=\"df-4412ee92-3800-4549-b7ad-234119d120aa\">\n",
              "    <div class=\"colab-df-container\">\n",
              "      <div>\n",
              "<style scoped>\n",
              "    .dataframe tbody tr th:only-of-type {\n",
              "        vertical-align: middle;\n",
              "    }\n",
              "\n",
              "    .dataframe tbody tr th {\n",
              "        vertical-align: top;\n",
              "    }\n",
              "\n",
              "    .dataframe thead th {\n",
              "        text-align: right;\n",
              "    }\n",
              "</style>\n",
              "<table border=\"1\" class=\"dataframe\">\n",
              "  <thead>\n",
              "    <tr style=\"text-align: right;\">\n",
              "      <th></th>\n",
              "      <th>Date</th>\n",
              "      <th>Open</th>\n",
              "      <th>High</th>\n",
              "      <th>Low</th>\n",
              "      <th>Close</th>\n",
              "      <th>Adj Close</th>\n",
              "      <th>Volume</th>\n",
              "    </tr>\n",
              "  </thead>\n",
              "  <tbody>\n",
              "    <tr>\n",
              "      <th>1240</th>\n",
              "      <td>2017-12-25</td>\n",
              "      <td>15.75</td>\n",
              "      <td>15.750000</td>\n",
              "      <td>15.75</td>\n",
              "      <td>15.750000</td>\n",
              "      <td>15.718563</td>\n",
              "      <td>0.0</td>\n",
              "    </tr>\n",
              "    <tr>\n",
              "      <th>1241</th>\n",
              "      <td>2017-12-26</td>\n",
              "      <td>15.75</td>\n",
              "      <td>15.990000</td>\n",
              "      <td>15.69</td>\n",
              "      <td>15.970000</td>\n",
              "      <td>15.938125</td>\n",
              "      <td>22173100.0</td>\n",
              "    </tr>\n",
              "    <tr>\n",
              "      <th>1242</th>\n",
              "      <td>2017-12-27</td>\n",
              "      <td>15.99</td>\n",
              "      <td>16.139999</td>\n",
              "      <td>15.98</td>\n",
              "      <td>16.049999</td>\n",
              "      <td>16.017963</td>\n",
              "      <td>23552200.0</td>\n",
              "    </tr>\n",
              "    <tr>\n",
              "      <th>1243</th>\n",
              "      <td>2017-12-28</td>\n",
              "      <td>16.10</td>\n",
              "      <td>16.129999</td>\n",
              "      <td>16.00</td>\n",
              "      <td>16.100000</td>\n",
              "      <td>16.067865</td>\n",
              "      <td>19011500.0</td>\n",
              "    </tr>\n",
              "    <tr>\n",
              "      <th>1244</th>\n",
              "      <td>2017-12-29</td>\n",
              "      <td>16.10</td>\n",
              "      <td>16.100000</td>\n",
              "      <td>16.10</td>\n",
              "      <td>16.100000</td>\n",
              "      <td>16.067865</td>\n",
              "      <td>0.0</td>\n",
              "    </tr>\n",
              "  </tbody>\n",
              "</table>\n",
              "</div>\n",
              "      <button class=\"colab-df-convert\" onclick=\"convertToInteractive('df-4412ee92-3800-4549-b7ad-234119d120aa')\"\n",
              "              title=\"Convert this dataframe to an interactive table.\"\n",
              "              style=\"display:none;\">\n",
              "        \n",
              "  <svg xmlns=\"http://www.w3.org/2000/svg\" height=\"24px\"viewBox=\"0 0 24 24\"\n",
              "       width=\"24px\">\n",
              "    <path d=\"M0 0h24v24H0V0z\" fill=\"none\"/>\n",
              "    <path d=\"M18.56 5.44l.94 2.06.94-2.06 2.06-.94-2.06-.94-.94-2.06-.94 2.06-2.06.94zm-11 1L8.5 8.5l.94-2.06 2.06-.94-2.06-.94L8.5 2.5l-.94 2.06-2.06.94zm10 10l.94 2.06.94-2.06 2.06-.94-2.06-.94-.94-2.06-.94 2.06-2.06.94z\"/><path d=\"M17.41 7.96l-1.37-1.37c-.4-.4-.92-.59-1.43-.59-.52 0-1.04.2-1.43.59L10.3 9.45l-7.72 7.72c-.78.78-.78 2.05 0 2.83L4 21.41c.39.39.9.59 1.41.59.51 0 1.02-.2 1.41-.59l7.78-7.78 2.81-2.81c.8-.78.8-2.07 0-2.86zM5.41 20L4 18.59l7.72-7.72 1.47 1.35L5.41 20z\"/>\n",
              "  </svg>\n",
              "      </button>\n",
              "      \n",
              "  <style>\n",
              "    .colab-df-container {\n",
              "      display:flex;\n",
              "      flex-wrap:wrap;\n",
              "      gap: 12px;\n",
              "    }\n",
              "\n",
              "    .colab-df-convert {\n",
              "      background-color: #E8F0FE;\n",
              "      border: none;\n",
              "      border-radius: 50%;\n",
              "      cursor: pointer;\n",
              "      display: none;\n",
              "      fill: #1967D2;\n",
              "      height: 32px;\n",
              "      padding: 0 0 0 0;\n",
              "      width: 32px;\n",
              "    }\n",
              "\n",
              "    .colab-df-convert:hover {\n",
              "      background-color: #E2EBFA;\n",
              "      box-shadow: 0px 1px 2px rgba(60, 64, 67, 0.3), 0px 1px 3px 1px rgba(60, 64, 67, 0.15);\n",
              "      fill: #174EA6;\n",
              "    }\n",
              "\n",
              "    [theme=dark] .colab-df-convert {\n",
              "      background-color: #3B4455;\n",
              "      fill: #D2E3FC;\n",
              "    }\n",
              "\n",
              "    [theme=dark] .colab-df-convert:hover {\n",
              "      background-color: #434B5C;\n",
              "      box-shadow: 0px 1px 3px 1px rgba(0, 0, 0, 0.15);\n",
              "      filter: drop-shadow(0px 1px 2px rgba(0, 0, 0, 0.3));\n",
              "      fill: #FFFFFF;\n",
              "    }\n",
              "  </style>\n",
              "\n",
              "      <script>\n",
              "        const buttonEl =\n",
              "          document.querySelector('#df-4412ee92-3800-4549-b7ad-234119d120aa button.colab-df-convert');\n",
              "        buttonEl.style.display =\n",
              "          google.colab.kernel.accessAllowed ? 'block' : 'none';\n",
              "\n",
              "        async function convertToInteractive(key) {\n",
              "          const element = document.querySelector('#df-4412ee92-3800-4549-b7ad-234119d120aa');\n",
              "          const dataTable =\n",
              "            await google.colab.kernel.invokeFunction('convertToInteractive',\n",
              "                                                     [key], {});\n",
              "          if (!dataTable) return;\n",
              "\n",
              "          const docLinkHtml = 'Like what you see? Visit the ' +\n",
              "            '<a target=\"_blank\" href=https://colab.research.google.com/notebooks/data_table.ipynb>data table notebook</a>'\n",
              "            + ' to learn more about interactive tables.';\n",
              "          element.innerHTML = '';\n",
              "          dataTable['output_type'] = 'display_data';\n",
              "          await google.colab.output.renderOutput(dataTable, element);\n",
              "          const docLink = document.createElement('div');\n",
              "          docLink.innerHTML = docLinkHtml;\n",
              "          element.appendChild(docLink);\n",
              "        }\n",
              "      </script>\n",
              "    </div>\n",
              "  </div>\n",
              "  "
            ]
          },
          "metadata": {},
          "execution_count": 8
        }
      ]
    },
    {
      "cell_type": "code",
      "metadata": {
        "id": "_KuVzCIBYhbb",
        "outputId": "44422ac4-1895-4501-ef31-48130b996833",
        "colab": {
          "base_uri": "https://localhost:8080/"
        }
      },
      "source": [
        "base.shape"
      ],
      "execution_count": null,
      "outputs": [
        {
          "output_type": "execute_result",
          "data": {
            "text/plain": [
              "(1245, 7)"
            ]
          },
          "metadata": {},
          "execution_count": 9
        }
      ]
    },
    {
      "cell_type": "code",
      "metadata": {
        "id": "0_SQL8HSYk7h"
      },
      "source": [
        "base = base.dropna()"
      ],
      "execution_count": null,
      "outputs": []
    },
    {
      "cell_type": "code",
      "metadata": {
        "id": "YnW24ppxYoSM",
        "outputId": "2c9b85b8-f4ef-4b62-9a87-aff5467479db",
        "colab": {
          "base_uri": "https://localhost:8080/"
        }
      },
      "source": [
        "base.shape"
      ],
      "execution_count": null,
      "outputs": [
        {
          "output_type": "execute_result",
          "data": {
            "text/plain": [
              "(1242, 7)"
            ]
          },
          "metadata": {},
          "execution_count": 11
        }
      ]
    },
    {
      "cell_type": "code",
      "metadata": {
        "id": "Je6_YLW1YwPU"
      },
      "source": [
        "base_treinamento = base.iloc[:, 1:2].values"
      ],
      "execution_count": null,
      "outputs": []
    },
    {
      "cell_type": "code",
      "metadata": {
        "id": "tO7vZCNvY6uC",
        "outputId": "9466e982-2e1a-40e3-fac0-26983eed279d",
        "colab": {
          "base_uri": "https://localhost:8080/"
        }
      },
      "source": [
        "base_treinamento"
      ],
      "execution_count": null,
      "outputs": [
        {
          "output_type": "execute_result",
          "data": {
            "text/plain": [
              "array([[19.99    ],\n",
              "       [19.809999],\n",
              "       [20.33    ],\n",
              "       ...,\n",
              "       [15.99    ],\n",
              "       [16.1     ],\n",
              "       [16.1     ]])"
            ]
          },
          "metadata": {},
          "execution_count": 13
        }
      ]
    },
    {
      "cell_type": "code",
      "metadata": {
        "id": "EXN93LAkZAUX"
      },
      "source": [
        "normalizador = MinMaxScaler(feature_range=(0,1))\n",
        "base_treinamento_normalizada = normalizador.fit_transform(base_treinamento)"
      ],
      "execution_count": null,
      "outputs": []
    },
    {
      "cell_type": "code",
      "metadata": {
        "id": "85tcPswmZLf_",
        "outputId": "90ed1061-f86e-4c70-ea05-c75c01a588a2",
        "colab": {
          "base_uri": "https://localhost:8080/"
        }
      },
      "source": [
        "base_treinamento_normalizada"
      ],
      "execution_count": null,
      "outputs": [
        {
          "output_type": "execute_result",
          "data": {
            "text/plain": [
              "array([[0.76501938],\n",
              "       [0.7562984 ],\n",
              "       [0.78149225],\n",
              "       ...,\n",
              "       [0.57122093],\n",
              "       [0.57655039],\n",
              "       [0.57655039]])"
            ]
          },
          "metadata": {},
          "execution_count": 15
        }
      ]
    },
    {
      "cell_type": "code",
      "metadata": {
        "id": "pEo5e1p5aEC6"
      },
      "source": [
        "X = []\n",
        "y = []\n",
        "for i in range(90, 1242):\n",
        "  X.append(base_treinamento_normalizada[i-90:i, 0])\n",
        "  y.append(base_treinamento_normalizada[i, 0])\n",
        "X, y = np.array(X), np.array(y)"
      ],
      "execution_count": null,
      "outputs": []
    },
    {
      "cell_type": "code",
      "metadata": {
        "id": "EJS-3rX_a4IJ",
        "outputId": "81c48d90-348d-4c75-e8e6-45b3dada0b91",
        "colab": {
          "base_uri": "https://localhost:8080/"
        }
      },
      "source": [
        "X[0]"
      ],
      "execution_count": null,
      "outputs": [
        {
          "output_type": "execute_result",
          "data": {
            "text/plain": [
              "array([0.76501938, 0.7562984 , 0.78149225, 0.78875969, 0.77083338,\n",
              "       0.74806197, 0.75436047, 0.75823643, 0.76598837, 0.76598837,\n",
              "       0.76017437, 0.75872098, 0.75581391, 0.74467054, 0.7374031 ,\n",
              "       0.7374031 , 0.73498067, 0.75242248, 0.73401163, 0.71656977,\n",
              "       0.68120155, 0.67538755, 0.67635659, 0.63372098, 0.66521318,\n",
              "       0.65649225, 0.64680228, 0.66618222, 0.65843028, 0.64970935,\n",
              "       0.65116274, 0.66424419, 0.67344961, 0.64292631, 0.64486434,\n",
              "       0.62257747, 0.60949617, 0.60998067, 0.60852713, 0.59593023,\n",
              "       0.61143411, 0.60222863, 0.64922481, 0.68362398, 0.70687989,\n",
              "       0.68265509, 0.70978682, 0.70784879, 0.71608527, 0.73643411,\n",
              "       0.7122093 , 0.7122093 , 0.7194767 , 0.70348832, 0.69525189,\n",
              "       0.70397287, 0.70397287, 0.69767442, 0.68168605, 0.68168605,\n",
              "       0.65310078, 0.66618222, 0.64825581, 0.66182175, 0.64341085,\n",
              "       0.67877902, 0.69137592, 0.66569772, 0.65406982, 0.64292631,\n",
              "       0.64147292, 0.63565891, 0.67587209, 0.68653106, 0.70300383,\n",
              "       0.71996119, 0.73982553, 0.76550388, 0.74854651, 0.75823643,\n",
              "       0.78924419, 0.76598837, 0.78488372, 0.80184109, 0.77761628,\n",
              "       0.77325581, 0.7562984 , 0.74273261, 0.74127907, 0.74224806])"
            ]
          },
          "metadata": {},
          "execution_count": 17
        }
      ]
    },
    {
      "cell_type": "code",
      "metadata": {
        "id": "ZX31xR2la62y",
        "outputId": "60a25a4b-7b4d-4e7e-ff43-506546d7e9c2",
        "colab": {
          "base_uri": "https://localhost:8080/"
        }
      },
      "source": [
        "y[0]"
      ],
      "execution_count": null,
      "outputs": [
        {
          "output_type": "execute_result",
          "data": {
            "text/plain": [
              "0.7611434108527131"
            ]
          },
          "metadata": {},
          "execution_count": 18
        }
      ]
    },
    {
      "cell_type": "code",
      "metadata": {
        "id": "kRCYGjdHa_CY",
        "outputId": "bcdfa377-2346-4942-9c06-575324da9b24",
        "colab": {
          "base_uri": "https://localhost:8080/"
        }
      },
      "source": [
        "X[1]"
      ],
      "execution_count": null,
      "outputs": [
        {
          "output_type": "execute_result",
          "data": {
            "text/plain": [
              "array([0.7562984 , 0.78149225, 0.78875969, 0.77083338, 0.74806197,\n",
              "       0.75436047, 0.75823643, 0.76598837, 0.76598837, 0.76017437,\n",
              "       0.75872098, 0.75581391, 0.74467054, 0.7374031 , 0.7374031 ,\n",
              "       0.73498067, 0.75242248, 0.73401163, 0.71656977, 0.68120155,\n",
              "       0.67538755, 0.67635659, 0.63372098, 0.66521318, 0.65649225,\n",
              "       0.64680228, 0.66618222, 0.65843028, 0.64970935, 0.65116274,\n",
              "       0.66424419, 0.67344961, 0.64292631, 0.64486434, 0.62257747,\n",
              "       0.60949617, 0.60998067, 0.60852713, 0.59593023, 0.61143411,\n",
              "       0.60222863, 0.64922481, 0.68362398, 0.70687989, 0.68265509,\n",
              "       0.70978682, 0.70784879, 0.71608527, 0.73643411, 0.7122093 ,\n",
              "       0.7122093 , 0.7194767 , 0.70348832, 0.69525189, 0.70397287,\n",
              "       0.70397287, 0.69767442, 0.68168605, 0.68168605, 0.65310078,\n",
              "       0.66618222, 0.64825581, 0.66182175, 0.64341085, 0.67877902,\n",
              "       0.69137592, 0.66569772, 0.65406982, 0.64292631, 0.64147292,\n",
              "       0.63565891, 0.67587209, 0.68653106, 0.70300383, 0.71996119,\n",
              "       0.73982553, 0.76550388, 0.74854651, 0.75823643, 0.78924419,\n",
              "       0.76598837, 0.78488372, 0.80184109, 0.77761628, 0.77325581,\n",
              "       0.7562984 , 0.74273261, 0.74127907, 0.74224806, 0.76114341])"
            ]
          },
          "metadata": {},
          "execution_count": 19
        }
      ]
    },
    {
      "cell_type": "code",
      "metadata": {
        "id": "5JYwKblKbIiN",
        "outputId": "2587e11f-ae52-41f4-9501-d8c7a3eb7668",
        "colab": {
          "base_uri": "https://localhost:8080/"
        }
      },
      "source": [
        "y[1]"
      ],
      "execution_count": null,
      "outputs": [
        {
          "output_type": "execute_result",
          "data": {
            "text/plain": [
              "0.7611434108527131"
            ]
          },
          "metadata": {},
          "execution_count": 20
        }
      ]
    },
    {
      "cell_type": "code",
      "metadata": {
        "id": "WO5uZ5UDbNEA"
      },
      "source": [
        "X = torch.tensor(X, dtype=torch.float32)\n",
        "y = torch.tensor(y, dtype=torch.float32)"
      ],
      "execution_count": null,
      "outputs": []
    },
    {
      "cell_type": "code",
      "metadata": {
        "id": "g0j6uH1kbTnO"
      },
      "source": [
        "dataset = torch.utils.data.TensorDataset(X, y)\n",
        "loader = torch.utils.data.DataLoader(dataset, batch_size=32, shuffle=True)"
      ],
      "execution_count": null,
      "outputs": []
    },
    {
      "cell_type": "markdown",
      "metadata": {
        "id": "QGDLesyDQpIb"
      },
      "source": [
        "## Etapa 3: Construção da rede neural recorrente"
      ]
    },
    {
      "cell_type": "code",
      "metadata": {
        "id": "NPwFS6SScThE"
      },
      "source": [
        "class regressor_LSTM(nn.Module):\n",
        "  def __init__(self):\n",
        "    super().__init__()\n",
        "\n",
        "    self.lstm1 = nn.LSTM(input_size=1, hidden_size=100)\n",
        "    self.lstm2 = nn.LSTM(100, 50)\n",
        "    self.lstm3 = nn.LSTM(50, 50, dropout = 0.3, num_layers=2)\n",
        "    self.dropout = nn.Dropout(p = 0.3)\n",
        "    self.linear = nn.Linear(in_features=50, out_features=1)\n",
        "\n",
        "  def forward(self, X):\n",
        "    # (batch_size, timesteps) -> (timesteps, batch_size, dimensions)\n",
        "    X = X.permute(1, 0).unsqueeze(2)\n",
        "    X, _ = self.lstm1(X)\n",
        "    X = self.dropout(X)\n",
        "    X, _ = self.lstm2(X)\n",
        "    X = self.dropout(X)\n",
        "    X, _ = self.lstm3(X)\n",
        "\n",
        "    X = X[-1]\n",
        "    X = self.dropout(X)\n",
        "    X = self.linear(X)\n",
        "\n",
        "    return X"
      ],
      "execution_count": null,
      "outputs": []
    },
    {
      "cell_type": "code",
      "metadata": {
        "id": "pJqCrc3cfLgg",
        "outputId": "31848568-766b-4ff8-b067-c0aa2019ed2b",
        "colab": {
          "base_uri": "https://localhost:8080/"
        }
      },
      "source": [
        "device = torch.device('cuda') if torch.cuda.is_available else torch.device('cpu')\n",
        "device"
      ],
      "execution_count": null,
      "outputs": [
        {
          "output_type": "execute_result",
          "data": {
            "text/plain": [
              "device(type='cuda')"
            ]
          },
          "metadata": {},
          "execution_count": 24
        }
      ]
    },
    {
      "cell_type": "code",
      "metadata": {
        "id": "hShspfqhfUH5"
      },
      "source": [
        "regressor = regressor_LSTM()\n",
        "criterion = nn.MSELoss()\n",
        "# Atenção: caso você tenha sempre os mesmos resultados de previsões, utilize os parâmetros lr e alpha abaixo\n",
        "optimizer = optim.RMSprop(regressor.parameters(), lr = 1e-3, alpha = 0.9)"
      ],
      "execution_count": null,
      "outputs": []
    },
    {
      "cell_type": "code",
      "metadata": {
        "id": "-q2FbKBhffed",
        "outputId": "4ea2f76a-5734-49ab-cab0-42ca6df9664c",
        "colab": {
          "base_uri": "https://localhost:8080/"
        }
      },
      "source": [
        "regressor.to(device)"
      ],
      "execution_count": null,
      "outputs": [
        {
          "output_type": "execute_result",
          "data": {
            "text/plain": [
              "regressor_LSTM(\n",
              "  (lstm1): LSTM(1, 100)\n",
              "  (lstm2): LSTM(100, 50)\n",
              "  (lstm3): LSTM(50, 50, num_layers=2, dropout=0.3)\n",
              "  (dropout): Dropout(p=0.3, inplace=False)\n",
              "  (linear): Linear(in_features=50, out_features=1, bias=True)\n",
              ")"
            ]
          },
          "metadata": {},
          "execution_count": 26
        }
      ]
    },
    {
      "cell_type": "markdown",
      "metadata": {
        "id": "appMwDHtRTN5"
      },
      "source": [
        "## Etapa 4: Treinamento do modelo"
      ]
    },
    {
      "cell_type": "code",
      "metadata": {
        "id": "OxqnJdUsELbQ",
        "outputId": "af26b86d-c9c6-4b5a-c5a7-fd466b8ae244",
        "colab": {
          "base_uri": "https://localhost:8080/"
        }
      },
      "source": [
        "for epoch in range(100):\n",
        "    running_loss = 0.\n",
        "    running_mae = 0.\n",
        "          \n",
        "    for i, data in enumerate(loader):\n",
        "        inputs, labels = data\n",
        "        inputs, labels = inputs.to(device), labels.to(device)\n",
        "        \n",
        "        optimizer.zero_grad()\n",
        "        \n",
        "        outputs = regressor(inputs)\n",
        "        outputs = outputs.flatten()\n",
        "        \n",
        "        loss = criterion(outputs, labels)\n",
        "        loss.backward()\n",
        "        \n",
        "        optimizer.step()\n",
        "    \n",
        "        running_loss += loss.item()\n",
        "        \n",
        "        mae = mean_absolute_error(labels.detach().cpu().numpy().flatten(), \n",
        "                                  outputs.detach().cpu().numpy().flatten())\n",
        "        running_mae += mae\n",
        "        \n",
        "        # Imprimindo os dados referentes a esse loop\n",
        "        print('\\rÉpoca {:3d} - Loop {:3d} de {:3d}: custo {:03.5f} - MAE {:03.5f}'.format(epoch+1, i+1, len(loader), loss, mae), end = '\\r')\n",
        "    \n",
        "    # Imprimindo os dados referentes a essa época\n",
        "    running_loss /= len(loader)\n",
        "    running_mae /= len(loader)\n",
        "    print('ÉPOCA {:3d} FINALIZADA: custo {:03.6f} - MAE {:03.6f}     '.format(epoch+1, running_loss, running_mae))"
      ],
      "execution_count": null,
      "outputs": [
        {
          "output_type": "stream",
          "name": "stdout",
          "text": [
            "ÉPOCA   1 FINALIZADA: custo 0.051147 - MAE 0.178801     \n",
            "ÉPOCA   2 FINALIZADA: custo 0.024303 - MAE 0.123315     \n",
            "ÉPOCA   3 FINALIZADA: custo 0.015880 - MAE 0.101374     \n",
            "ÉPOCA   4 FINALIZADA: custo 0.012339 - MAE 0.088098     \n",
            "ÉPOCA   5 FINALIZADA: custo 0.009745 - MAE 0.076272     \n",
            "ÉPOCA   6 FINALIZADA: custo 0.010080 - MAE 0.078807     \n",
            "ÉPOCA   7 FINALIZADA: custo 0.007414 - MAE 0.067392     \n",
            "ÉPOCA   8 FINALIZADA: custo 0.007569 - MAE 0.067498     \n",
            "ÉPOCA   9 FINALIZADA: custo 0.007021 - MAE 0.065463     \n",
            "ÉPOCA  10 FINALIZADA: custo 0.006858 - MAE 0.065037     \n",
            "ÉPOCA  11 FINALIZADA: custo 0.006276 - MAE 0.061062     \n",
            "ÉPOCA  12 FINALIZADA: custo 0.005601 - MAE 0.057993     \n",
            "ÉPOCA  13 FINALIZADA: custo 0.005305 - MAE 0.057191     \n",
            "ÉPOCA  14 FINALIZADA: custo 0.005197 - MAE 0.055543     \n",
            "ÉPOCA  15 FINALIZADA: custo 0.004852 - MAE 0.053025     \n",
            "ÉPOCA  16 FINALIZADA: custo 0.004464 - MAE 0.052284     \n",
            "ÉPOCA  17 FINALIZADA: custo 0.004303 - MAE 0.051737     \n",
            "ÉPOCA  18 FINALIZADA: custo 0.004180 - MAE 0.050321     \n",
            "ÉPOCA  19 FINALIZADA: custo 0.004494 - MAE 0.052330     \n",
            "ÉPOCA  20 FINALIZADA: custo 0.004157 - MAE 0.049199     \n",
            "ÉPOCA  21 FINALIZADA: custo 0.004022 - MAE 0.048994     \n",
            "ÉPOCA  22 FINALIZADA: custo 0.003723 - MAE 0.046805     \n",
            "ÉPOCA  23 FINALIZADA: custo 0.003689 - MAE 0.046379     \n",
            "ÉPOCA  24 FINALIZADA: custo 0.003608 - MAE 0.046481     \n",
            "ÉPOCA  25 FINALIZADA: custo 0.003596 - MAE 0.046372     \n",
            "ÉPOCA  26 FINALIZADA: custo 0.003231 - MAE 0.043480     \n",
            "ÉPOCA  27 FINALIZADA: custo 0.003705 - MAE 0.047072     \n",
            "ÉPOCA  28 FINALIZADA: custo 0.003534 - MAE 0.046056     \n",
            "ÉPOCA  29 FINALIZADA: custo 0.003330 - MAE 0.044695     \n",
            "ÉPOCA  30 FINALIZADA: custo 0.003085 - MAE 0.042673     \n",
            "ÉPOCA  31 FINALIZADA: custo 0.003128 - MAE 0.043611     \n",
            "ÉPOCA  32 FINALIZADA: custo 0.003055 - MAE 0.043010     \n",
            "ÉPOCA  33 FINALIZADA: custo 0.003119 - MAE 0.042666     \n",
            "ÉPOCA  34 FINALIZADA: custo 0.002342 - MAE 0.037645     \n",
            "ÉPOCA  35 FINALIZADA: custo 0.002728 - MAE 0.041098     \n",
            "ÉPOCA  36 FINALIZADA: custo 0.002779 - MAE 0.040633     \n",
            "ÉPOCA  37 FINALIZADA: custo 0.002997 - MAE 0.041206     \n",
            "ÉPOCA  38 FINALIZADA: custo 0.002767 - MAE 0.040125     \n",
            "ÉPOCA  39 FINALIZADA: custo 0.002935 - MAE 0.041418     \n",
            "ÉPOCA  40 FINALIZADA: custo 0.002450 - MAE 0.038004     \n",
            "ÉPOCA  41 FINALIZADA: custo 0.002744 - MAE 0.040433     \n",
            "ÉPOCA  42 FINALIZADA: custo 0.002598 - MAE 0.039227     \n",
            "ÉPOCA  43 FINALIZADA: custo 0.002509 - MAE 0.038632     \n",
            "ÉPOCA  44 FINALIZADA: custo 0.002532 - MAE 0.038537     \n",
            "ÉPOCA  45 FINALIZADA: custo 0.002539 - MAE 0.038811     \n",
            "ÉPOCA  46 FINALIZADA: custo 0.002340 - MAE 0.036746     \n",
            "ÉPOCA  47 FINALIZADA: custo 0.002344 - MAE 0.037024     \n",
            "ÉPOCA  48 FINALIZADA: custo 0.002412 - MAE 0.037062     \n",
            "ÉPOCA  49 FINALIZADA: custo 0.002188 - MAE 0.037166     \n",
            "ÉPOCA  50 FINALIZADA: custo 0.002264 - MAE 0.035891     \n",
            "ÉPOCA  51 FINALIZADA: custo 0.002240 - MAE 0.036447     \n",
            "ÉPOCA  52 FINALIZADA: custo 0.002246 - MAE 0.036130     \n",
            "ÉPOCA  53 FINALIZADA: custo 0.002367 - MAE 0.036875     \n",
            "ÉPOCA  54 FINALIZADA: custo 0.002039 - MAE 0.034461     \n",
            "ÉPOCA  55 FINALIZADA: custo 0.002103 - MAE 0.035995     \n",
            "ÉPOCA  56 FINALIZADA: custo 0.002086 - MAE 0.034464     \n",
            "ÉPOCA  57 FINALIZADA: custo 0.002095 - MAE 0.035024     \n",
            "ÉPOCA  58 FINALIZADA: custo 0.002032 - MAE 0.034264     \n",
            "ÉPOCA  59 FINALIZADA: custo 0.002020 - MAE 0.034514     \n",
            "ÉPOCA  60 FINALIZADA: custo 0.002031 - MAE 0.034474     \n",
            "ÉPOCA  61 FINALIZADA: custo 0.002062 - MAE 0.034297     \n",
            "ÉPOCA  62 FINALIZADA: custo 0.002081 - MAE 0.033922     \n",
            "ÉPOCA  63 FINALIZADA: custo 0.002228 - MAE 0.035327     \n",
            "ÉPOCA  64 FINALIZADA: custo 0.002051 - MAE 0.034778     \n",
            "ÉPOCA  65 FINALIZADA: custo 0.001983 - MAE 0.033937     \n",
            "ÉPOCA  66 FINALIZADA: custo 0.001896 - MAE 0.032864     \n",
            "ÉPOCA  67 FINALIZADA: custo 0.001872 - MAE 0.033054     \n",
            "ÉPOCA  68 FINALIZADA: custo 0.001938 - MAE 0.032913     \n",
            "ÉPOCA  69 FINALIZADA: custo 0.001748 - MAE 0.032052     \n",
            "ÉPOCA  70 FINALIZADA: custo 0.001854 - MAE 0.031700     \n",
            "ÉPOCA  71 FINALIZADA: custo 0.001852 - MAE 0.031951     \n",
            "ÉPOCA  72 FINALIZADA: custo 0.001739 - MAE 0.032026     \n",
            "ÉPOCA  73 FINALIZADA: custo 0.001937 - MAE 0.033624     \n",
            "ÉPOCA  74 FINALIZADA: custo 0.001621 - MAE 0.030847     \n",
            "ÉPOCA  75 FINALIZADA: custo 0.001700 - MAE 0.030779     \n",
            "ÉPOCA  76 FINALIZADA: custo 0.001604 - MAE 0.030729     \n",
            "ÉPOCA  77 FINALIZADA: custo 0.001808 - MAE 0.031527     \n",
            "ÉPOCA  78 FINALIZADA: custo 0.001839 - MAE 0.032619     \n",
            "ÉPOCA  79 FINALIZADA: custo 0.001866 - MAE 0.032333     \n",
            "ÉPOCA  80 FINALIZADA: custo 0.001743 - MAE 0.031757     \n",
            "ÉPOCA  81 FINALIZADA: custo 0.001572 - MAE 0.029654     \n",
            "ÉPOCA  82 FINALIZADA: custo 0.001700 - MAE 0.031465     \n",
            "ÉPOCA  83 FINALIZADA: custo 0.001769 - MAE 0.031361     \n",
            "ÉPOCA  84 FINALIZADA: custo 0.001858 - MAE 0.031773     \n",
            "ÉPOCA  85 FINALIZADA: custo 0.001505 - MAE 0.029568     \n",
            "ÉPOCA  86 FINALIZADA: custo 0.001658 - MAE 0.030361     \n",
            "ÉPOCA  87 FINALIZADA: custo 0.001618 - MAE 0.030378     \n",
            "ÉPOCA  88 FINALIZADA: custo 0.001686 - MAE 0.030447     \n",
            "ÉPOCA  89 FINALIZADA: custo 0.001671 - MAE 0.030995     \n",
            "ÉPOCA  90 FINALIZADA: custo 0.001642 - MAE 0.030036     \n",
            "ÉPOCA  91 FINALIZADA: custo 0.001578 - MAE 0.029808     \n",
            "ÉPOCA  92 FINALIZADA: custo 0.001510 - MAE 0.028803     \n",
            "ÉPOCA  93 FINALIZADA: custo 0.001570 - MAE 0.030611     \n",
            "ÉPOCA  94 FINALIZADA: custo 0.001576 - MAE 0.029821     \n",
            "ÉPOCA  95 FINALIZADA: custo 0.001644 - MAE 0.030302     \n",
            "ÉPOCA  96 FINALIZADA: custo 0.001620 - MAE 0.029866     \n",
            "ÉPOCA  97 FINALIZADA: custo 0.001462 - MAE 0.028917     \n",
            "ÉPOCA  98 FINALIZADA: custo 0.001635 - MAE 0.030793     \n",
            "ÉPOCA  99 FINALIZADA: custo 0.001495 - MAE 0.029193     \n",
            "ÉPOCA 100 FINALIZADA: custo 0.001513 - MAE 0.029025     \n"
          ]
        }
      ]
    },
    {
      "cell_type": "markdown",
      "metadata": {
        "id": "AyTjLzELSdQF"
      },
      "source": [
        "## Etapa 5: Processamento da base de teste"
      ]
    },
    {
      "cell_type": "code",
      "metadata": {
        "id": "9YBWRBMqhox5"
      },
      "source": [
        "base_teste = pd.read_csv('/content/drive/MyDrive/Deep Learing de A à Z com PyTorch/Bases/petr4_teste.csv')"
      ],
      "execution_count": null,
      "outputs": []
    },
    {
      "cell_type": "code",
      "metadata": {
        "id": "qWiRDXozh5sV",
        "outputId": "616db244-9518-4dc3-de92-c050e07eb789",
        "colab": {
          "base_uri": "https://localhost:8080/"
        }
      },
      "source": [
        "base_teste.shape"
      ],
      "execution_count": null,
      "outputs": [
        {
          "output_type": "execute_result",
          "data": {
            "text/plain": [
              "(22, 7)"
            ]
          },
          "metadata": {},
          "execution_count": 31
        }
      ]
    },
    {
      "cell_type": "code",
      "metadata": {
        "id": "yeSPQ_hUiAPP",
        "outputId": "4afb6bc4-a640-4bf7-f03c-c7384584fdca",
        "colab": {
          "base_uri": "https://localhost:8080/",
          "height": 739
        }
      },
      "source": [
        "base.head(22)"
      ],
      "execution_count": null,
      "outputs": [
        {
          "output_type": "execute_result",
          "data": {
            "text/plain": [
              "          Date       Open       High        Low      Close  Adj Close  \\\n",
              "0   2013-01-02  19.990000  20.209999  19.690001  19.690001  18.086271   \n",
              "1   2013-01-03  19.809999  20.400000  19.700001  20.400000  18.738441   \n",
              "2   2013-01-04  20.330000  20.620001  20.170000  20.430000  18.766001   \n",
              "3   2013-01-07  20.480000  20.670000  19.950001  20.080000  18.444506   \n",
              "4   2013-01-08  20.110001  20.230000  19.459999  19.500000  17.911745   \n",
              "5   2013-01-09  19.639999  19.870001  19.459999  19.680000  18.077084   \n",
              "6   2013-01-10  19.770000  20.049999  19.540001  19.830000  18.214869   \n",
              "7   2013-01-11  19.850000  20.040001  19.700001  19.879999  18.260794   \n",
              "8   2013-01-14  20.010000  20.240000  19.690001  19.719999  18.113827   \n",
              "9   2013-01-15  20.010000  20.240000  19.690001  19.820000  18.205681   \n",
              "10  2013-01-16  19.889999  19.889999  19.600000  19.840000  18.224054   \n",
              "11  2013-01-17  19.860001  19.930000  19.600000  19.709999  18.104639   \n",
              "12  2013-01-18  19.799999  19.889999  19.540001  19.580000  17.985229   \n",
              "13  2013-01-21  19.570000  19.600000  19.270000  19.389999  17.810705   \n",
              "14  2013-01-22  19.420000  19.610001  19.230000  19.580000  17.985229   \n",
              "15  2013-01-23  19.420000  19.629999  19.230000  19.549999  17.957674   \n",
              "16  2013-01-24  19.370001  19.750000  19.370001  19.610001  18.012787   \n",
              "17  2013-01-28  19.730000  19.809999  19.270000  19.370001  17.792336   \n",
              "18  2013-01-29  19.350000  19.370001  18.840000  19.110001  17.553513   \n",
              "19  2013-01-30  18.990000  18.990000  18.170000  18.200001  16.717628   \n",
              "20  2013-01-31  18.260000  18.330000  17.900000  18.080000  16.607405   \n",
              "21  2013-02-01  18.139999  18.650000  18.120001  18.459999  16.956451   \n",
              "\n",
              "        Volume  \n",
              "0   30182600.0  \n",
              "1   30552600.0  \n",
              "2   36141000.0  \n",
              "3   28069600.0  \n",
              "4   29091300.0  \n",
              "5   24361100.0  \n",
              "6   17526200.0  \n",
              "7   18223600.0  \n",
              "8   28302400.0  \n",
              "9   29633900.0  \n",
              "10  16787800.0  \n",
              "11  19719600.0  \n",
              "12  18913900.0  \n",
              "13  18086200.0  \n",
              "14  23535100.0  \n",
              "15  17200800.0  \n",
              "16  19612600.0  \n",
              "17  20122600.0  \n",
              "18  27097900.0  \n",
              "19  66985800.0  \n",
              "20  33246400.0  \n",
              "21  28860400.0  "
            ],
            "text/html": [
              "\n",
              "  <div id=\"df-56ac0a09-ac09-4609-b7ff-108400345aec\">\n",
              "    <div class=\"colab-df-container\">\n",
              "      <div>\n",
              "<style scoped>\n",
              "    .dataframe tbody tr th:only-of-type {\n",
              "        vertical-align: middle;\n",
              "    }\n",
              "\n",
              "    .dataframe tbody tr th {\n",
              "        vertical-align: top;\n",
              "    }\n",
              "\n",
              "    .dataframe thead th {\n",
              "        text-align: right;\n",
              "    }\n",
              "</style>\n",
              "<table border=\"1\" class=\"dataframe\">\n",
              "  <thead>\n",
              "    <tr style=\"text-align: right;\">\n",
              "      <th></th>\n",
              "      <th>Date</th>\n",
              "      <th>Open</th>\n",
              "      <th>High</th>\n",
              "      <th>Low</th>\n",
              "      <th>Close</th>\n",
              "      <th>Adj Close</th>\n",
              "      <th>Volume</th>\n",
              "    </tr>\n",
              "  </thead>\n",
              "  <tbody>\n",
              "    <tr>\n",
              "      <th>0</th>\n",
              "      <td>2013-01-02</td>\n",
              "      <td>19.990000</td>\n",
              "      <td>20.209999</td>\n",
              "      <td>19.690001</td>\n",
              "      <td>19.690001</td>\n",
              "      <td>18.086271</td>\n",
              "      <td>30182600.0</td>\n",
              "    </tr>\n",
              "    <tr>\n",
              "      <th>1</th>\n",
              "      <td>2013-01-03</td>\n",
              "      <td>19.809999</td>\n",
              "      <td>20.400000</td>\n",
              "      <td>19.700001</td>\n",
              "      <td>20.400000</td>\n",
              "      <td>18.738441</td>\n",
              "      <td>30552600.0</td>\n",
              "    </tr>\n",
              "    <tr>\n",
              "      <th>2</th>\n",
              "      <td>2013-01-04</td>\n",
              "      <td>20.330000</td>\n",
              "      <td>20.620001</td>\n",
              "      <td>20.170000</td>\n",
              "      <td>20.430000</td>\n",
              "      <td>18.766001</td>\n",
              "      <td>36141000.0</td>\n",
              "    </tr>\n",
              "    <tr>\n",
              "      <th>3</th>\n",
              "      <td>2013-01-07</td>\n",
              "      <td>20.480000</td>\n",
              "      <td>20.670000</td>\n",
              "      <td>19.950001</td>\n",
              "      <td>20.080000</td>\n",
              "      <td>18.444506</td>\n",
              "      <td>28069600.0</td>\n",
              "    </tr>\n",
              "    <tr>\n",
              "      <th>4</th>\n",
              "      <td>2013-01-08</td>\n",
              "      <td>20.110001</td>\n",
              "      <td>20.230000</td>\n",
              "      <td>19.459999</td>\n",
              "      <td>19.500000</td>\n",
              "      <td>17.911745</td>\n",
              "      <td>29091300.0</td>\n",
              "    </tr>\n",
              "    <tr>\n",
              "      <th>5</th>\n",
              "      <td>2013-01-09</td>\n",
              "      <td>19.639999</td>\n",
              "      <td>19.870001</td>\n",
              "      <td>19.459999</td>\n",
              "      <td>19.680000</td>\n",
              "      <td>18.077084</td>\n",
              "      <td>24361100.0</td>\n",
              "    </tr>\n",
              "    <tr>\n",
              "      <th>6</th>\n",
              "      <td>2013-01-10</td>\n",
              "      <td>19.770000</td>\n",
              "      <td>20.049999</td>\n",
              "      <td>19.540001</td>\n",
              "      <td>19.830000</td>\n",
              "      <td>18.214869</td>\n",
              "      <td>17526200.0</td>\n",
              "    </tr>\n",
              "    <tr>\n",
              "      <th>7</th>\n",
              "      <td>2013-01-11</td>\n",
              "      <td>19.850000</td>\n",
              "      <td>20.040001</td>\n",
              "      <td>19.700001</td>\n",
              "      <td>19.879999</td>\n",
              "      <td>18.260794</td>\n",
              "      <td>18223600.0</td>\n",
              "    </tr>\n",
              "    <tr>\n",
              "      <th>8</th>\n",
              "      <td>2013-01-14</td>\n",
              "      <td>20.010000</td>\n",
              "      <td>20.240000</td>\n",
              "      <td>19.690001</td>\n",
              "      <td>19.719999</td>\n",
              "      <td>18.113827</td>\n",
              "      <td>28302400.0</td>\n",
              "    </tr>\n",
              "    <tr>\n",
              "      <th>9</th>\n",
              "      <td>2013-01-15</td>\n",
              "      <td>20.010000</td>\n",
              "      <td>20.240000</td>\n",
              "      <td>19.690001</td>\n",
              "      <td>19.820000</td>\n",
              "      <td>18.205681</td>\n",
              "      <td>29633900.0</td>\n",
              "    </tr>\n",
              "    <tr>\n",
              "      <th>10</th>\n",
              "      <td>2013-01-16</td>\n",
              "      <td>19.889999</td>\n",
              "      <td>19.889999</td>\n",
              "      <td>19.600000</td>\n",
              "      <td>19.840000</td>\n",
              "      <td>18.224054</td>\n",
              "      <td>16787800.0</td>\n",
              "    </tr>\n",
              "    <tr>\n",
              "      <th>11</th>\n",
              "      <td>2013-01-17</td>\n",
              "      <td>19.860001</td>\n",
              "      <td>19.930000</td>\n",
              "      <td>19.600000</td>\n",
              "      <td>19.709999</td>\n",
              "      <td>18.104639</td>\n",
              "      <td>19719600.0</td>\n",
              "    </tr>\n",
              "    <tr>\n",
              "      <th>12</th>\n",
              "      <td>2013-01-18</td>\n",
              "      <td>19.799999</td>\n",
              "      <td>19.889999</td>\n",
              "      <td>19.540001</td>\n",
              "      <td>19.580000</td>\n",
              "      <td>17.985229</td>\n",
              "      <td>18913900.0</td>\n",
              "    </tr>\n",
              "    <tr>\n",
              "      <th>13</th>\n",
              "      <td>2013-01-21</td>\n",
              "      <td>19.570000</td>\n",
              "      <td>19.600000</td>\n",
              "      <td>19.270000</td>\n",
              "      <td>19.389999</td>\n",
              "      <td>17.810705</td>\n",
              "      <td>18086200.0</td>\n",
              "    </tr>\n",
              "    <tr>\n",
              "      <th>14</th>\n",
              "      <td>2013-01-22</td>\n",
              "      <td>19.420000</td>\n",
              "      <td>19.610001</td>\n",
              "      <td>19.230000</td>\n",
              "      <td>19.580000</td>\n",
              "      <td>17.985229</td>\n",
              "      <td>23535100.0</td>\n",
              "    </tr>\n",
              "    <tr>\n",
              "      <th>15</th>\n",
              "      <td>2013-01-23</td>\n",
              "      <td>19.420000</td>\n",
              "      <td>19.629999</td>\n",
              "      <td>19.230000</td>\n",
              "      <td>19.549999</td>\n",
              "      <td>17.957674</td>\n",
              "      <td>17200800.0</td>\n",
              "    </tr>\n",
              "    <tr>\n",
              "      <th>16</th>\n",
              "      <td>2013-01-24</td>\n",
              "      <td>19.370001</td>\n",
              "      <td>19.750000</td>\n",
              "      <td>19.370001</td>\n",
              "      <td>19.610001</td>\n",
              "      <td>18.012787</td>\n",
              "      <td>19612600.0</td>\n",
              "    </tr>\n",
              "    <tr>\n",
              "      <th>17</th>\n",
              "      <td>2013-01-28</td>\n",
              "      <td>19.730000</td>\n",
              "      <td>19.809999</td>\n",
              "      <td>19.270000</td>\n",
              "      <td>19.370001</td>\n",
              "      <td>17.792336</td>\n",
              "      <td>20122600.0</td>\n",
              "    </tr>\n",
              "    <tr>\n",
              "      <th>18</th>\n",
              "      <td>2013-01-29</td>\n",
              "      <td>19.350000</td>\n",
              "      <td>19.370001</td>\n",
              "      <td>18.840000</td>\n",
              "      <td>19.110001</td>\n",
              "      <td>17.553513</td>\n",
              "      <td>27097900.0</td>\n",
              "    </tr>\n",
              "    <tr>\n",
              "      <th>19</th>\n",
              "      <td>2013-01-30</td>\n",
              "      <td>18.990000</td>\n",
              "      <td>18.990000</td>\n",
              "      <td>18.170000</td>\n",
              "      <td>18.200001</td>\n",
              "      <td>16.717628</td>\n",
              "      <td>66985800.0</td>\n",
              "    </tr>\n",
              "    <tr>\n",
              "      <th>20</th>\n",
              "      <td>2013-01-31</td>\n",
              "      <td>18.260000</td>\n",
              "      <td>18.330000</td>\n",
              "      <td>17.900000</td>\n",
              "      <td>18.080000</td>\n",
              "      <td>16.607405</td>\n",
              "      <td>33246400.0</td>\n",
              "    </tr>\n",
              "    <tr>\n",
              "      <th>21</th>\n",
              "      <td>2013-02-01</td>\n",
              "      <td>18.139999</td>\n",
              "      <td>18.650000</td>\n",
              "      <td>18.120001</td>\n",
              "      <td>18.459999</td>\n",
              "      <td>16.956451</td>\n",
              "      <td>28860400.0</td>\n",
              "    </tr>\n",
              "  </tbody>\n",
              "</table>\n",
              "</div>\n",
              "      <button class=\"colab-df-convert\" onclick=\"convertToInteractive('df-56ac0a09-ac09-4609-b7ff-108400345aec')\"\n",
              "              title=\"Convert this dataframe to an interactive table.\"\n",
              "              style=\"display:none;\">\n",
              "        \n",
              "  <svg xmlns=\"http://www.w3.org/2000/svg\" height=\"24px\"viewBox=\"0 0 24 24\"\n",
              "       width=\"24px\">\n",
              "    <path d=\"M0 0h24v24H0V0z\" fill=\"none\"/>\n",
              "    <path d=\"M18.56 5.44l.94 2.06.94-2.06 2.06-.94-2.06-.94-.94-2.06-.94 2.06-2.06.94zm-11 1L8.5 8.5l.94-2.06 2.06-.94-2.06-.94L8.5 2.5l-.94 2.06-2.06.94zm10 10l.94 2.06.94-2.06 2.06-.94-2.06-.94-.94-2.06-.94 2.06-2.06.94z\"/><path d=\"M17.41 7.96l-1.37-1.37c-.4-.4-.92-.59-1.43-.59-.52 0-1.04.2-1.43.59L10.3 9.45l-7.72 7.72c-.78.78-.78 2.05 0 2.83L4 21.41c.39.39.9.59 1.41.59.51 0 1.02-.2 1.41-.59l7.78-7.78 2.81-2.81c.8-.78.8-2.07 0-2.86zM5.41 20L4 18.59l7.72-7.72 1.47 1.35L5.41 20z\"/>\n",
              "  </svg>\n",
              "      </button>\n",
              "      \n",
              "  <style>\n",
              "    .colab-df-container {\n",
              "      display:flex;\n",
              "      flex-wrap:wrap;\n",
              "      gap: 12px;\n",
              "    }\n",
              "\n",
              "    .colab-df-convert {\n",
              "      background-color: #E8F0FE;\n",
              "      border: none;\n",
              "      border-radius: 50%;\n",
              "      cursor: pointer;\n",
              "      display: none;\n",
              "      fill: #1967D2;\n",
              "      height: 32px;\n",
              "      padding: 0 0 0 0;\n",
              "      width: 32px;\n",
              "    }\n",
              "\n",
              "    .colab-df-convert:hover {\n",
              "      background-color: #E2EBFA;\n",
              "      box-shadow: 0px 1px 2px rgba(60, 64, 67, 0.3), 0px 1px 3px 1px rgba(60, 64, 67, 0.15);\n",
              "      fill: #174EA6;\n",
              "    }\n",
              "\n",
              "    [theme=dark] .colab-df-convert {\n",
              "      background-color: #3B4455;\n",
              "      fill: #D2E3FC;\n",
              "    }\n",
              "\n",
              "    [theme=dark] .colab-df-convert:hover {\n",
              "      background-color: #434B5C;\n",
              "      box-shadow: 0px 1px 3px 1px rgba(0, 0, 0, 0.15);\n",
              "      filter: drop-shadow(0px 1px 2px rgba(0, 0, 0, 0.3));\n",
              "      fill: #FFFFFF;\n",
              "    }\n",
              "  </style>\n",
              "\n",
              "      <script>\n",
              "        const buttonEl =\n",
              "          document.querySelector('#df-56ac0a09-ac09-4609-b7ff-108400345aec button.colab-df-convert');\n",
              "        buttonEl.style.display =\n",
              "          google.colab.kernel.accessAllowed ? 'block' : 'none';\n",
              "\n",
              "        async function convertToInteractive(key) {\n",
              "          const element = document.querySelector('#df-56ac0a09-ac09-4609-b7ff-108400345aec');\n",
              "          const dataTable =\n",
              "            await google.colab.kernel.invokeFunction('convertToInteractive',\n",
              "                                                     [key], {});\n",
              "          if (!dataTable) return;\n",
              "\n",
              "          const docLinkHtml = 'Like what you see? Visit the ' +\n",
              "            '<a target=\"_blank\" href=https://colab.research.google.com/notebooks/data_table.ipynb>data table notebook</a>'\n",
              "            + ' to learn more about interactive tables.';\n",
              "          element.innerHTML = '';\n",
              "          dataTable['output_type'] = 'display_data';\n",
              "          await google.colab.output.renderOutput(dataTable, element);\n",
              "          const docLink = document.createElement('div');\n",
              "          docLink.innerHTML = docLinkHtml;\n",
              "          element.appendChild(docLink);\n",
              "        }\n",
              "      </script>\n",
              "    </div>\n",
              "  </div>\n",
              "  "
            ]
          },
          "metadata": {},
          "execution_count": 32
        }
      ]
    },
    {
      "cell_type": "code",
      "metadata": {
        "id": "xISUSOahiMyN"
      },
      "source": [
        "preco_real_teste = base_teste.iloc[:, 1:2].values"
      ],
      "execution_count": null,
      "outputs": []
    },
    {
      "cell_type": "code",
      "metadata": {
        "id": "7F5tceV3iSY3",
        "outputId": "66ec287f-ec53-4abe-8ae8-c460fb5d8926",
        "colab": {
          "base_uri": "https://localhost:8080/"
        }
      },
      "source": [
        "preco_real_teste"
      ],
      "execution_count": null,
      "outputs": [
        {
          "output_type": "execute_result",
          "data": {
            "text/plain": [
              "array([[16.190001],\n",
              "       [16.49    ],\n",
              "       [16.780001],\n",
              "       [16.700001],\n",
              "       [16.74    ],\n",
              "       [17.030001],\n",
              "       [16.92    ],\n",
              "       [16.879999],\n",
              "       [17.040001],\n",
              "       [17.32    ],\n",
              "       [17.35    ],\n",
              "       [17.92    ],\n",
              "       [18.35    ],\n",
              "       [18.309999],\n",
              "       [18.26    ],\n",
              "       [18.4     ],\n",
              "       [18.42    ],\n",
              "       [19.34    ],\n",
              "       [19.620001],\n",
              "       [19.67    ],\n",
              "       [19.77    ],\n",
              "       [19.74    ]])"
            ]
          },
          "metadata": {},
          "execution_count": 34
        }
      ]
    },
    {
      "cell_type": "code",
      "metadata": {
        "id": "4Q0CLxD1iWg9"
      },
      "source": [
        "base_completa = pd.concat((base['Open'], base_teste['Open']), axis = 0)"
      ],
      "execution_count": null,
      "outputs": []
    },
    {
      "cell_type": "code",
      "metadata": {
        "id": "34dENwaJjBS2",
        "outputId": "a3891c24-1b98-4636-e841-ed950107bb63",
        "colab": {
          "base_uri": "https://localhost:8080/"
        }
      },
      "source": [
        "base.shape"
      ],
      "execution_count": null,
      "outputs": [
        {
          "output_type": "execute_result",
          "data": {
            "text/plain": [
              "(1242, 7)"
            ]
          },
          "metadata": {},
          "execution_count": 36
        }
      ]
    },
    {
      "cell_type": "code",
      "metadata": {
        "id": "HLfRCwBLjECi",
        "outputId": "5d39c2b3-0105-4e22-cda7-d3dafc87dd16",
        "colab": {
          "base_uri": "https://localhost:8080/"
        }
      },
      "source": [
        "1264 - 1242"
      ],
      "execution_count": null,
      "outputs": [
        {
          "output_type": "execute_result",
          "data": {
            "text/plain": [
              "22"
            ]
          },
          "metadata": {},
          "execution_count": 37
        }
      ]
    },
    {
      "cell_type": "code",
      "metadata": {
        "id": "Q7RPWa7Ai-fB",
        "outputId": "68701898-4ed5-4c06-954b-8e9b9dec6070",
        "colab": {
          "base_uri": "https://localhost:8080/"
        }
      },
      "source": [
        "base_completa.shape"
      ],
      "execution_count": null,
      "outputs": [
        {
          "output_type": "execute_result",
          "data": {
            "text/plain": [
              "(1264,)"
            ]
          },
          "metadata": {},
          "execution_count": 38
        }
      ]
    },
    {
      "cell_type": "code",
      "metadata": {
        "id": "5Axl0rCRjJ_O"
      },
      "source": [
        "entradas = base_completa[len(base_completa) - len(base_teste) - 90:].values"
      ],
      "execution_count": null,
      "outputs": []
    },
    {
      "cell_type": "code",
      "metadata": {
        "id": "XlHyr12ajbYO",
        "outputId": "bfd74521-9712-4238-f550-109fc5ef49bc",
        "colab": {
          "base_uri": "https://localhost:8080/"
        }
      },
      "source": [
        "entradas"
      ],
      "execution_count": null,
      "outputs": [
        {
          "output_type": "execute_result",
          "data": {
            "text/plain": [
              "array([13.93    , 13.76    , 13.79    , 13.53    , 13.85    , 13.96    ,\n",
              "       14.57    , 14.65    , 15.02    , 15.1     , 14.88    , 14.98    ,\n",
              "       14.94    , 15.03    , 15.07    , 15.02    , 15.1     , 15.25    ,\n",
              "       15.85    , 15.6     , 15.79    , 15.86    , 15.7     , 15.37    ,\n",
              "       15.5     , 15.19    , 15.6     , 15.9     , 15.88    , 15.66    ,\n",
              "       15.61    , 16.129999, 16.17    , 16.08    , 16.23    , 16.16    ,\n",
              "       16.139999, 16.219999, 16.      , 16.190001, 16.290001, 16.290001,\n",
              "       16.530001, 16.780001, 16.77    , 16.969999, 16.9     , 16.99    ,\n",
              "       16.9     , 16.959999, 17.049999, 17.309999, 16.690001, 16.889999,\n",
              "       16.709999, 16.690001, 16.639999, 15.35    , 15.62    , 15.92    ,\n",
              "       16.02    , 16.15    , 16.09    , 15.98    , 16.25    , 16.01    ,\n",
              "       15.93    , 15.87    , 15.3     , 15.34    , 15.65    , 15.5     ,\n",
              "       15.22    , 15.3     , 15.51    , 15.48    , 15.36    , 15.65    ,\n",
              "       15.1     , 15.05    , 15.16    , 15.18    , 15.21    , 15.31    ,\n",
              "       15.75    , 15.75    , 15.75    , 15.99    , 16.1     , 16.1     ,\n",
              "       16.190001, 16.49    , 16.780001, 16.700001, 16.74    , 17.030001,\n",
              "       16.92    , 16.879999, 17.040001, 17.32    , 17.35    , 17.92    ,\n",
              "       18.35    , 18.309999, 18.26    , 18.4     , 18.42    , 19.34    ,\n",
              "       19.620001, 19.67    , 19.77    , 19.74    ])"
            ]
          },
          "metadata": {},
          "execution_count": 40
        }
      ]
    },
    {
      "cell_type": "code",
      "metadata": {
        "id": "r41u403FjyAU",
        "outputId": "62437b62-b992-4296-8419-8374c84ea00d",
        "colab": {
          "base_uri": "https://localhost:8080/"
        }
      },
      "source": [
        "entradas.shape"
      ],
      "execution_count": null,
      "outputs": [
        {
          "output_type": "execute_result",
          "data": {
            "text/plain": [
              "(112,)"
            ]
          },
          "metadata": {},
          "execution_count": 41
        }
      ]
    },
    {
      "cell_type": "code",
      "metadata": {
        "id": "rRxp2PsskIll",
        "outputId": "e7568f8a-f371-48a7-8477-cfaf078dc511",
        "colab": {
          "base_uri": "https://localhost:8080/"
        }
      },
      "source": [
        "entradas = entradas.reshape(-1,1)\n",
        "entradas.shape"
      ],
      "execution_count": null,
      "outputs": [
        {
          "output_type": "execute_result",
          "data": {
            "text/plain": [
              "(112, 1)"
            ]
          },
          "metadata": {},
          "execution_count": 42
        }
      ]
    },
    {
      "cell_type": "code",
      "metadata": {
        "id": "3C-V1y0skPcL",
        "outputId": "1b523266-c870-45f2-d06b-16ad12cd179b",
        "colab": {
          "base_uri": "https://localhost:8080/"
        }
      },
      "source": [
        "entradas = normalizador.transform(entradas)\n",
        "entradas"
      ],
      "execution_count": null,
      "outputs": [
        {
          "output_type": "execute_result",
          "data": {
            "text/plain": [
              "array([[0.47141473],\n",
              "       [0.46317829],\n",
              "       [0.46463178],\n",
              "       [0.45203488],\n",
              "       [0.46753876],\n",
              "       [0.47286822],\n",
              "       [0.50242248],\n",
              "       [0.50629845],\n",
              "       [0.52422481],\n",
              "       [0.52810078],\n",
              "       [0.51744186],\n",
              "       [0.52228682],\n",
              "       [0.52034884],\n",
              "       [0.5247093 ],\n",
              "       [0.52664729],\n",
              "       [0.52422481],\n",
              "       [0.52810078],\n",
              "       [0.53536822],\n",
              "       [0.56443798],\n",
              "       [0.55232558],\n",
              "       [0.56153101],\n",
              "       [0.56492248],\n",
              "       [0.55717054],\n",
              "       [0.54118217],\n",
              "       [0.54748062],\n",
              "       [0.53246124],\n",
              "       [0.55232558],\n",
              "       [0.56686047],\n",
              "       [0.56589147],\n",
              "       [0.55523256],\n",
              "       [0.55281008],\n",
              "       [0.57800383],\n",
              "       [0.57994186],\n",
              "       [0.5755814 ],\n",
              "       [0.58284884],\n",
              "       [0.57945736],\n",
              "       [0.57848832],\n",
              "       [0.58236429],\n",
              "       [0.57170543],\n",
              "       [0.5809109 ],\n",
              "       [0.58575586],\n",
              "       [0.58575586],\n",
              "       [0.59738377],\n",
              "       [0.60949617],\n",
              "       [0.60901163],\n",
              "       [0.6187015 ],\n",
              "       [0.61531008],\n",
              "       [0.61967054],\n",
              "       [0.61531008],\n",
              "       [0.61821701],\n",
              "       [0.62257747],\n",
              "       [0.63517437],\n",
              "       [0.60513571],\n",
              "       [0.61482553],\n",
              "       [0.6061046 ],\n",
              "       [0.60513571],\n",
              "       [0.60271313],\n",
              "       [0.54021318],\n",
              "       [0.55329457],\n",
              "       [0.56782946],\n",
              "       [0.57267442],\n",
              "       [0.57897287],\n",
              "       [0.57606589],\n",
              "       [0.57073643],\n",
              "       [0.58381783],\n",
              "       [0.57218992],\n",
              "       [0.56831395],\n",
              "       [0.56540698],\n",
              "       [0.5377907 ],\n",
              "       [0.53972868],\n",
              "       [0.55474806],\n",
              "       [0.54748062],\n",
              "       [0.53391473],\n",
              "       [0.5377907 ],\n",
              "       [0.54796512],\n",
              "       [0.54651163],\n",
              "       [0.54069767],\n",
              "       [0.55474806],\n",
              "       [0.52810078],\n",
              "       [0.52567829],\n",
              "       [0.53100775],\n",
              "       [0.53197674],\n",
              "       [0.53343023],\n",
              "       [0.53827519],\n",
              "       [0.55959302],\n",
              "       [0.55959302],\n",
              "       [0.55959302],\n",
              "       [0.57122093],\n",
              "       [0.57655039],\n",
              "       [0.57655039],\n",
              "       [0.5809109 ],\n",
              "       [0.59544574],\n",
              "       [0.60949617],\n",
              "       [0.6056202 ],\n",
              "       [0.60755814],\n",
              "       [0.62160858],\n",
              "       [0.61627907],\n",
              "       [0.61434104],\n",
              "       [0.62209307],\n",
              "       [0.63565891],\n",
              "       [0.6371124 ],\n",
              "       [0.66472868],\n",
              "       [0.68556202],\n",
              "       [0.68362398],\n",
              "       [0.68120155],\n",
              "       [0.6879845 ],\n",
              "       [0.68895349],\n",
              "       [0.73352713],\n",
              "       [0.74709307],\n",
              "       [0.7495155 ],\n",
              "       [0.75436047],\n",
              "       [0.75290698]])"
            ]
          },
          "metadata": {},
          "execution_count": 43
        }
      ]
    },
    {
      "cell_type": "code",
      "metadata": {
        "id": "OuWZpRalk1M0",
        "outputId": "29e82883-374f-420f-9b0d-a25d960fcb19",
        "colab": {
          "base_uri": "https://localhost:8080/"
        }
      },
      "source": [
        "112 - 90"
      ],
      "execution_count": null,
      "outputs": [
        {
          "output_type": "execute_result",
          "data": {
            "text/plain": [
              "22"
            ]
          },
          "metadata": {},
          "execution_count": 44
        }
      ]
    },
    {
      "cell_type": "code",
      "metadata": {
        "id": "NEeMWfk3kV70"
      },
      "source": [
        "X_teste = []\n",
        "for i in range(90, 112):\n",
        "  X_teste.append(entradas[i-90:i, 0])\n",
        "X_teste = np.array(X_teste)"
      ],
      "execution_count": null,
      "outputs": []
    },
    {
      "cell_type": "code",
      "metadata": {
        "id": "oQaH_PZFlE0S",
        "outputId": "de8d70ae-537e-4555-d356-29d44096c1de",
        "colab": {
          "base_uri": "https://localhost:8080/"
        }
      },
      "source": [
        "X_teste[21]"
      ],
      "execution_count": null,
      "outputs": [
        {
          "output_type": "execute_result",
          "data": {
            "text/plain": [
              "array([0.56492248, 0.55717054, 0.54118217, 0.54748062, 0.53246124,\n",
              "       0.55232558, 0.56686047, 0.56589147, 0.55523256, 0.55281008,\n",
              "       0.57800383, 0.57994186, 0.5755814 , 0.58284884, 0.57945736,\n",
              "       0.57848832, 0.58236429, 0.57170543, 0.5809109 , 0.58575586,\n",
              "       0.58575586, 0.59738377, 0.60949617, 0.60901163, 0.6187015 ,\n",
              "       0.61531008, 0.61967054, 0.61531008, 0.61821701, 0.62257747,\n",
              "       0.63517437, 0.60513571, 0.61482553, 0.6061046 , 0.60513571,\n",
              "       0.60271313, 0.54021318, 0.55329457, 0.56782946, 0.57267442,\n",
              "       0.57897287, 0.57606589, 0.57073643, 0.58381783, 0.57218992,\n",
              "       0.56831395, 0.56540698, 0.5377907 , 0.53972868, 0.55474806,\n",
              "       0.54748062, 0.53391473, 0.5377907 , 0.54796512, 0.54651163,\n",
              "       0.54069767, 0.55474806, 0.52810078, 0.52567829, 0.53100775,\n",
              "       0.53197674, 0.53343023, 0.53827519, 0.55959302, 0.55959302,\n",
              "       0.55959302, 0.57122093, 0.57655039, 0.57655039, 0.5809109 ,\n",
              "       0.59544574, 0.60949617, 0.6056202 , 0.60755814, 0.62160858,\n",
              "       0.61627907, 0.61434104, 0.62209307, 0.63565891, 0.6371124 ,\n",
              "       0.66472868, 0.68556202, 0.68362398, 0.68120155, 0.6879845 ,\n",
              "       0.68895349, 0.73352713, 0.74709307, 0.7495155 , 0.75436047])"
            ]
          },
          "metadata": {},
          "execution_count": 46
        }
      ]
    },
    {
      "cell_type": "code",
      "metadata": {
        "id": "mjJS7hAulmwj"
      },
      "source": [
        "X_teste = torch.tensor(X_teste, device = device, dtype=torch.float32)"
      ],
      "execution_count": null,
      "outputs": []
    },
    {
      "cell_type": "markdown",
      "metadata": {
        "id": "2kcTr4ikoM3k"
      },
      "source": [
        "## Etapa 6: Previsões"
      ]
    },
    {
      "cell_type": "code",
      "metadata": {
        "id": "enIeV2_pl-tA"
      },
      "source": [
        "regressor.eval()\n",
        "previsoes = regressor.forward(X_teste)"
      ],
      "execution_count": null,
      "outputs": []
    },
    {
      "cell_type": "code",
      "metadata": {
        "id": "Azd3tJ5YmF0f",
        "outputId": "9f215d84-1cfa-4e21-bb39-26f5d6e612b4",
        "colab": {
          "base_uri": "https://localhost:8080/"
        }
      },
      "source": [
        "previsoes"
      ],
      "execution_count": null,
      "outputs": [
        {
          "output_type": "execute_result",
          "data": {
            "text/plain": [
              "tensor([[0.5599],\n",
              "        [0.5628],\n",
              "        [0.5743],\n",
              "        [0.5884],\n",
              "        [0.5890],\n",
              "        [0.5890],\n",
              "        [0.5989],\n",
              "        [0.5980],\n",
              "        [0.5955],\n",
              "        [0.6001],\n",
              "        [0.6120],\n",
              "        [0.6165],\n",
              "        [0.6376],\n",
              "        [0.6585],\n",
              "        [0.6614],\n",
              "        [0.6584],\n",
              "        [0.6613],\n",
              "        [0.6627],\n",
              "        [0.6961],\n",
              "        [0.7144],\n",
              "        [0.7196],\n",
              "        [0.7225]], device='cuda:0', grad_fn=<AddmmBackward0>)"
            ]
          },
          "metadata": {},
          "execution_count": 49
        }
      ]
    },
    {
      "cell_type": "code",
      "metadata": {
        "id": "C7OzboJZmI8u",
        "outputId": "6324d41f-8279-48cf-fed3-be45cb7fc576",
        "colab": {
          "base_uri": "https://localhost:8080/"
        }
      },
      "source": [
        "previsoes.shape"
      ],
      "execution_count": null,
      "outputs": [
        {
          "output_type": "execute_result",
          "data": {
            "text/plain": [
              "torch.Size([22, 1])"
            ]
          },
          "metadata": {},
          "execution_count": 50
        }
      ]
    },
    {
      "cell_type": "code",
      "metadata": {
        "id": "h6q9fQNpmMSH",
        "outputId": "90c36ac7-d464-4adc-a83b-ba68ffddb557",
        "colab": {
          "base_uri": "https://localhost:8080/"
        }
      },
      "source": [
        "previsoes = previsoes.detach().cpu().numpy().reshape(-1,1)\n",
        "previsoes.shape"
      ],
      "execution_count": null,
      "outputs": [
        {
          "output_type": "execute_result",
          "data": {
            "text/plain": [
              "(22, 1)"
            ]
          },
          "metadata": {},
          "execution_count": 51
        }
      ]
    },
    {
      "cell_type": "code",
      "metadata": {
        "id": "F3a4MYAumW1f"
      },
      "source": [
        "previsoes = normalizador.inverse_transform(previsoes)"
      ],
      "execution_count": null,
      "outputs": []
    },
    {
      "cell_type": "code",
      "metadata": {
        "id": "eedRp8xQmhTZ",
        "outputId": "cf02a70e-c2d5-4258-dba9-549faf8fecba",
        "colab": {
          "base_uri": "https://localhost:8080/"
        }
      },
      "source": [
        "previsoes.mean()"
      ],
      "execution_count": null,
      "outputs": [
        {
          "output_type": "execute_result",
          "data": {
            "text/plain": [
              "17.218843"
            ]
          },
          "metadata": {},
          "execution_count": 53
        }
      ]
    },
    {
      "cell_type": "code",
      "metadata": {
        "id": "QT8Zo-BZmlKW",
        "outputId": "6faea22c-ea99-45aa-e784-2beec8afdd48",
        "colab": {
          "base_uri": "https://localhost:8080/"
        }
      },
      "source": [
        "preco_real_teste.mean()"
      ],
      "execution_count": null,
      "outputs": [
        {
          "output_type": "execute_result",
          "data": {
            "text/plain": [
              "17.87454563636364"
            ]
          },
          "metadata": {},
          "execution_count": 54
        }
      ]
    },
    {
      "cell_type": "code",
      "metadata": {
        "id": "QXCp4-O9mrzj",
        "outputId": "0794e357-e3bb-4e19-a156-329567f499dc",
        "colab": {
          "base_uri": "https://localhost:8080/",
          "height": 313
        }
      },
      "source": [
        "plt.plot(preco_real_teste, color='red', label='Preço real')\n",
        "plt.plot(previsoes, color = 'blue', label='Previsões')\n",
        "plt.title('Previsão do preço de ações')\n",
        "plt.xlabel('Tempo')\n",
        "plt.ylabel('Valor Yahoo')\n",
        "plt.legend()"
      ],
      "execution_count": null,
      "outputs": [
        {
          "output_type": "execute_result",
          "data": {
            "text/plain": [
              "<matplotlib.legend.Legend at 0x7f699cb300a0>"
            ]
          },
          "metadata": {},
          "execution_count": 57
        },
        {
          "output_type": "display_data",
          "data": {
            "text/plain": [
              "<Figure size 432x288 with 1 Axes>"
            ],
            "image/png": "[encoded data removed]"
          },
          "metadata": {
            "needs_background": "light"
          }
        }
      ]
    }
  ]
}