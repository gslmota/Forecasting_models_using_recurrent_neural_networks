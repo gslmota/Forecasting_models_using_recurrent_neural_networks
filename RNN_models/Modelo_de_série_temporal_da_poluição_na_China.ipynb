{
  "nbformat": 4,
  "nbformat_minor": 0,
  "metadata": {
    "colab": {
      "provenance": []
    },
    "kernelspec": {
      "name": "python3",
      "display_name": "Python 3"
    },
    "accelerator": "GPU"
  },
  "cells": [
    {
      "cell_type": "markdown",
      "metadata": {
        "id": "5tP2BcEILoLB"
      },
      "source": [
        "## Etapa 1: Importação das bibliotecas"
      ]
    },
    {
      "cell_type": "code",
      "metadata": {
        "id": "Yf0FpJ35Lf-Z",
        "outputId": "07f78617-033c-4651-835e-333d685bd028",
        "colab": {
          "base_uri": "https://localhost:8080/",
          "height": 36
        }
      },
      "source": [
        "import numpy as np\n",
        "import pandas as pd\n",
        "from sklearn.preprocessing import MinMaxScaler\n",
        "import matplotlib.pyplot as plt\n",
        "import torch\n",
        "from torch import nn, optim\n",
        "from sklearn.metrics import mean_absolute_error\n",
        "torch.__version__"
      ],
      "execution_count": null,
      "outputs": [
        {
          "output_type": "execute_result",
          "data": {
            "text/plain": [
              "'1.13.1+cu116'"
            ],
            "application/vnd.google.colaboratory.intrinsic+json": {
              "type": "string"
            }
          },
          "metadata": {},
          "execution_count": 1
        }
      ]
    },
    {
      "cell_type": "code",
      "metadata": {
        "id": "X1vw_qANCnRx",
        "outputId": "b8ca2767-f7e4-41f0-b2a7-d17986a602a9",
        "colab": {
          "base_uri": "https://localhost:8080/"
        }
      },
      "source": [
        "torch.manual_seed(123)"
      ],
      "execution_count": null,
      "outputs": [
        {
          "output_type": "execute_result",
          "data": {
            "text/plain": [
              "<torch._C.Generator at 0x7f05d1887c10>"
            ]
          },
          "metadata": {},
          "execution_count": 2
        }
      ]
    },
    {
      "cell_type": "code",
      "source": [
        "from google.colab import drive\n",
        "drive.mount('/content/drive')"
      ],
      "metadata": {
        "colab": {
          "base_uri": "https://localhost:8080/"
        },
        "id": "vYW8byA_GmRI",
        "outputId": "65b557f6-0713-4baa-abbf-ef886024871f"
      },
      "execution_count": null,
      "outputs": [
        {
          "output_type": "stream",
          "name": "stdout",
          "text": [
            "Mounted at /content/drive\n"
          ]
        }
      ]
    },
    {
      "cell_type": "markdown",
      "metadata": {
        "id": "C0SD4dJ4MDMN"
      },
      "source": [
        "## Etapa 2: Base de dados\n",
        "\n",
        "- Cada registro representa o nível de poluição em cada hora (medida de hora em hora)\n",
        "- A ideia é prever o nível de poluição em uma determinada hora baseado nas horas anteriores\n"
      ]
    },
    {
      "cell_type": "code",
      "metadata": {
        "id": "ucYGZD8uX4TA"
      },
      "source": [
        "base = pd.read_csv('/content/drive/MyDrive/Deep Learing de A à Z com PyTorch/Bases/poluicao.csv')"
      ],
      "execution_count": null,
      "outputs": []
    },
    {
      "cell_type": "code",
      "metadata": {
        "id": "6lKEclZLYHLl",
        "outputId": "1601d6ce-560f-4ec8-894d-58eb1483da30",
        "colab": {
          "base_uri": "https://localhost:8080/",
          "height": 206
        }
      },
      "source": [
        "base.head()"
      ],
      "execution_count": null,
      "outputs": [
        {
          "output_type": "execute_result",
          "data": {
            "text/plain": [
              "   No  year  month  day  hour  pm2.5  DEWP  TEMP    PRES cbwd    Iws  Is  Ir\n",
              "0   1  2010      1    1     0    NaN   -21 -11.0  1021.0   NW   1.79   0   0\n",
              "1   2  2010      1    1     1    NaN   -21 -12.0  1020.0   NW   4.92   0   0\n",
              "2   3  2010      1    1     2    NaN   -21 -11.0  1019.0   NW   6.71   0   0\n",
              "3   4  2010      1    1     3    NaN   -21 -14.0  1019.0   NW   9.84   0   0\n",
              "4   5  2010      1    1     4    NaN   -20 -12.0  1018.0   NW  12.97   0   0"
            ],
            "text/html": [
              "\n",
              "  <div id=\"df-052014f2-505c-4f03-b422-22549d38cff9\">\n",
              "    <div class=\"colab-df-container\">\n",
              "      <div>\n",
              "<style scoped>\n",
              "    .dataframe tbody tr th:only-of-type {\n",
              "        vertical-align: middle;\n",
              "    }\n",
              "\n",
              "    .dataframe tbody tr th {\n",
              "        vertical-align: top;\n",
              "    }\n",
              "\n",
              "    .dataframe thead th {\n",
              "        text-align: right;\n",
              "    }\n",
              "</style>\n",
              "<table border=\"1\" class=\"dataframe\">\n",
              "  <thead>\n",
              "    <tr style=\"text-align: right;\">\n",
              "      <th></th>\n",
              "      <th>No</th>\n",
              "      <th>year</th>\n",
              "      <th>month</th>\n",
              "      <th>day</th>\n",
              "      <th>hour</th>\n",
              "      <th>pm2.5</th>\n",
              "      <th>DEWP</th>\n",
              "      <th>TEMP</th>\n",
              "      <th>PRES</th>\n",
              "      <th>cbwd</th>\n",
              "      <th>Iws</th>\n",
              "      <th>Is</th>\n",
              "      <th>Ir</th>\n",
              "    </tr>\n",
              "  </thead>\n",
              "  <tbody>\n",
              "    <tr>\n",
              "      <th>0</th>\n",
              "      <td>1</td>\n",
              "      <td>2010</td>\n",
              "      <td>1</td>\n",
              "      <td>1</td>\n",
              "      <td>0</td>\n",
              "      <td>NaN</td>\n",
              "      <td>-21</td>\n",
              "      <td>-11.0</td>\n",
              "      <td>1021.0</td>\n",
              "      <td>NW</td>\n",
              "      <td>1.79</td>\n",
              "      <td>0</td>\n",
              "      <td>0</td>\n",
              "    </tr>\n",
              "    <tr>\n",
              "      <th>1</th>\n",
              "      <td>2</td>\n",
              "      <td>2010</td>\n",
              "      <td>1</td>\n",
              "      <td>1</td>\n",
              "      <td>1</td>\n",
              "      <td>NaN</td>\n",
              "      <td>-21</td>\n",
              "      <td>-12.0</td>\n",
              "      <td>1020.0</td>\n",
              "      <td>NW</td>\n",
              "      <td>4.92</td>\n",
              "      <td>0</td>\n",
              "      <td>0</td>\n",
              "    </tr>\n",
              "    <tr>\n",
              "      <th>2</th>\n",
              "      <td>3</td>\n",
              "      <td>2010</td>\n",
              "      <td>1</td>\n",
              "      <td>1</td>\n",
              "      <td>2</td>\n",
              "      <td>NaN</td>\n",
              "      <td>-21</td>\n",
              "      <td>-11.0</td>\n",
              "      <td>1019.0</td>\n",
              "      <td>NW</td>\n",
              "      <td>6.71</td>\n",
              "      <td>0</td>\n",
              "      <td>0</td>\n",
              "    </tr>\n",
              "    <tr>\n",
              "      <th>3</th>\n",
              "      <td>4</td>\n",
              "      <td>2010</td>\n",
              "      <td>1</td>\n",
              "      <td>1</td>\n",
              "      <td>3</td>\n",
              "      <td>NaN</td>\n",
              "      <td>-21</td>\n",
              "      <td>-14.0</td>\n",
              "      <td>1019.0</td>\n",
              "      <td>NW</td>\n",
              "      <td>9.84</td>\n",
              "      <td>0</td>\n",
              "      <td>0</td>\n",
              "    </tr>\n",
              "    <tr>\n",
              "      <th>4</th>\n",
              "      <td>5</td>\n",
              "      <td>2010</td>\n",
              "      <td>1</td>\n",
              "      <td>1</td>\n",
              "      <td>4</td>\n",
              "      <td>NaN</td>\n",
              "      <td>-20</td>\n",
              "      <td>-12.0</td>\n",
              "      <td>1018.0</td>\n",
              "      <td>NW</td>\n",
              "      <td>12.97</td>\n",
              "      <td>0</td>\n",
              "      <td>0</td>\n",
              "    </tr>\n",
              "  </tbody>\n",
              "</table>\n",
              "</div>\n",
              "      <button class=\"colab-df-convert\" onclick=\"convertToInteractive('df-052014f2-505c-4f03-b422-22549d38cff9')\"\n",
              "              title=\"Convert this dataframe to an interactive table.\"\n",
              "              style=\"display:none;\">\n",
              "        \n",
              "  <svg xmlns=\"http://www.w3.org/2000/svg\" height=\"24px\"viewBox=\"0 0 24 24\"\n",
              "       width=\"24px\">\n",
              "    <path d=\"M0 0h24v24H0V0z\" fill=\"none\"/>\n",
              "    <path d=\"M18.56 5.44l.94 2.06.94-2.06 2.06-.94-2.06-.94-.94-2.06-.94 2.06-2.06.94zm-11 1L8.5 8.5l.94-2.06 2.06-.94-2.06-.94L8.5 2.5l-.94 2.06-2.06.94zm10 10l.94 2.06.94-2.06 2.06-.94-2.06-.94-.94-2.06-.94 2.06-2.06.94z\"/><path d=\"M17.41 7.96l-1.37-1.37c-.4-.4-.92-.59-1.43-.59-.52 0-1.04.2-1.43.59L10.3 9.45l-7.72 7.72c-.78.78-.78 2.05 0 2.83L4 21.41c.39.39.9.59 1.41.59.51 0 1.02-.2 1.41-.59l7.78-7.78 2.81-2.81c.8-.78.8-2.07 0-2.86zM5.41 20L4 18.59l7.72-7.72 1.47 1.35L5.41 20z\"/>\n",
              "  </svg>\n",
              "      </button>\n",
              "      \n",
              "  <style>\n",
              "    .colab-df-container {\n",
              "      display:flex;\n",
              "      flex-wrap:wrap;\n",
              "      gap: 12px;\n",
              "    }\n",
              "\n",
              "    .colab-df-convert {\n",
              "      background-color: #E8F0FE;\n",
              "      border: none;\n",
              "      border-radius: 50%;\n",
              "      cursor: pointer;\n",
              "      display: none;\n",
              "      fill: #1967D2;\n",
              "      height: 32px;\n",
              "      padding: 0 0 0 0;\n",
              "      width: 32px;\n",
              "    }\n",
              "\n",
              "    .colab-df-convert:hover {\n",
              "      background-color: #E2EBFA;\n",
              "      box-shadow: 0px 1px 2px rgba(60, 64, 67, 0.3), 0px 1px 3px 1px rgba(60, 64, 67, 0.15);\n",
              "      fill: #174EA6;\n",
              "    }\n",
              "\n",
              "    [theme=dark] .colab-df-convert {\n",
              "      background-color: #3B4455;\n",
              "      fill: #D2E3FC;\n",
              "    }\n",
              "\n",
              "    [theme=dark] .colab-df-convert:hover {\n",
              "      background-color: #434B5C;\n",
              "      box-shadow: 0px 1px 3px 1px rgba(0, 0, 0, 0.15);\n",
              "      filter: drop-shadow(0px 1px 2px rgba(0, 0, 0, 0.3));\n",
              "      fill: #FFFFFF;\n",
              "    }\n",
              "  </style>\n",
              "\n",
              "      <script>\n",
              "        const buttonEl =\n",
              "          document.querySelector('#df-052014f2-505c-4f03-b422-22549d38cff9 button.colab-df-convert');\n",
              "        buttonEl.style.display =\n",
              "          google.colab.kernel.accessAllowed ? 'block' : 'none';\n",
              "\n",
              "        async function convertToInteractive(key) {\n",
              "          const element = document.querySelector('#df-052014f2-505c-4f03-b422-22549d38cff9');\n",
              "          const dataTable =\n",
              "            await google.colab.kernel.invokeFunction('convertToInteractive',\n",
              "                                                     [key], {});\n",
              "          if (!dataTable) return;\n",
              "\n",
              "          const docLinkHtml = 'Like what you see? Visit the ' +\n",
              "            '<a target=\"_blank\" href=https://colab.research.google.com/notebooks/data_table.ipynb>data table notebook</a>'\n",
              "            + ' to learn more about interactive tables.';\n",
              "          element.innerHTML = '';\n",
              "          dataTable['output_type'] = 'display_data';\n",
              "          await google.colab.output.renderOutput(dataTable, element);\n",
              "          const docLink = document.createElement('div');\n",
              "          docLink.innerHTML = docLinkHtml;\n",
              "          element.appendChild(docLink);\n",
              "        }\n",
              "      </script>\n",
              "    </div>\n",
              "  </div>\n",
              "  "
            ]
          },
          "metadata": {},
          "execution_count": 5
        }
      ]
    },
    {
      "cell_type": "code",
      "metadata": {
        "id": "_KuVzCIBYhbb",
        "outputId": "f6e436f0-5b6b-4178-8816-3f5844f1b2a7",
        "colab": {
          "base_uri": "https://localhost:8080/"
        }
      },
      "source": [
        "base.shape"
      ],
      "execution_count": null,
      "outputs": [
        {
          "output_type": "execute_result",
          "data": {
            "text/plain": [
              "(43824, 13)"
            ]
          },
          "metadata": {},
          "execution_count": 6
        }
      ]
    },
    {
      "cell_type": "code",
      "metadata": {
        "id": "0_SQL8HSYk7h"
      },
      "source": [
        "base = base.dropna()"
      ],
      "execution_count": null,
      "outputs": []
    },
    {
      "cell_type": "code",
      "metadata": {
        "id": "YnW24ppxYoSM",
        "outputId": "a33288e2-7f8e-45f0-d049-37eb155b9ecb",
        "colab": {
          "base_uri": "https://localhost:8080/"
        }
      },
      "source": [
        "base.shape"
      ],
      "execution_count": null,
      "outputs": [
        {
          "output_type": "execute_result",
          "data": {
            "text/plain": [
              "(41757, 13)"
            ]
          },
          "metadata": {},
          "execution_count": 8
        }
      ]
    },
    {
      "cell_type": "code",
      "metadata": {
        "id": "Je6_YLW1YwPU"
      },
      "source": [
        "# Exclusão de atributos que não serão utilizados para a análise\n",
        "# \"No\" é o número do registro\n",
        "# \"Year\", \"month\", \"day\" e \"hour\" são as informações temporais que não são utilizadas para análise\n",
        "# \"Cbwd\" é um atributo de texto que não está relacionado com as previsões\n",
        "base = base.drop('No', axis = 1)\n",
        "base = base.drop('year', axis = 1)\n",
        "base = base.drop('month', axis = 1)\n",
        "base = base.drop('day', axis = 1)\n",
        "base = base.drop('hour', axis = 1)\n",
        "base = base.drop('cbwd', axis = 1)"
      ],
      "execution_count": null,
      "outputs": []
    },
    {
      "cell_type": "code",
      "metadata": {
        "id": "tO7vZCNvY6uC"
      },
      "source": [
        "base_treinamento = base.values"
      ],
      "execution_count": null,
      "outputs": []
    },
    {
      "cell_type": "code",
      "metadata": {
        "id": "0iYXuLwcO_3c"
      },
      "source": [
        "poluicao = base_treinamento[:, 0].reshape(-1, 1)"
      ],
      "execution_count": null,
      "outputs": []
    },
    {
      "cell_type": "code",
      "metadata": {
        "id": "24QS_uKOPCHD"
      },
      "source": [
        "normalizador = MinMaxScaler(feature_range = (0, 1))\n",
        "base_treinamento_normalizada = normalizador.fit_transform(base_treinamento)"
      ],
      "execution_count": null,
      "outputs": []
    },
    {
      "cell_type": "code",
      "metadata": {
        "id": "pEo5e1p5aEC6"
      },
      "source": [
        "# Criação da estrutura de dados que representa a série temporal, considerando \n",
        "# 10 horas anteriores para prever a hora atual\n",
        "X = []\n",
        "y = []\n",
        "for i in range(10, 41757):\n",
        "    X.append(base_treinamento_normalizada[i-10:i, 1:7]) # os previsores estão nas colunas 1 a 6\n",
        "    y.append(base_treinamento_normalizada[i, 0]) # o valor a ser previsto (poluição) está na coluna 0\n",
        "X, y = np.array(X), np.array(y)"
      ],
      "execution_count": null,
      "outputs": []
    },
    {
      "cell_type": "code",
      "metadata": {
        "id": "EJS-3rX_a4IJ"
      },
      "source": [
        "X = torch.tensor(X, dtype = torch.float32)\n",
        "y = torch.tensor(y, dtype = torch.float32)"
      ],
      "execution_count": null,
      "outputs": []
    },
    {
      "cell_type": "code",
      "metadata": {
        "id": "g0j6uH1kbTnO"
      },
      "source": [
        "dataset = torch.utils.data.TensorDataset(X, y)\n",
        "loader = torch.utils.data.DataLoader(dataset, batch_size = 64, shuffle = True)"
      ],
      "execution_count": null,
      "outputs": []
    },
    {
      "cell_type": "markdown",
      "metadata": {
        "id": "QGDLesyDQpIb"
      },
      "source": [
        "## Etapa 3: Construção da rede neural recorrente"
      ]
    },
    {
      "cell_type": "code",
      "metadata": {
        "id": "NPwFS6SScThE"
      },
      "source": [
        "class regressor_LSTM(nn.Module):\n",
        "    def __init__(self):\n",
        "        super().__init__()\n",
        "        \n",
        "        # O primeiro input_size é o número de dimensões que cada dado tem em cada timestep. Nesse caso, são 6 dimensões, uma para cada variável.     \n",
        "        self.lstm1 = nn.LSTM(input_size = 6, hidden_size = 100)\n",
        "        self.lstm2 = nn.LSTM(100, 50)\n",
        "        self.lstm3 = nn.LSTM(50, 50, dropout = 0.3, num_layers = 2)\n",
        "        self.dropout = nn.Dropout(p = 0.3)\n",
        "        self.linear = nn.Linear(in_features = 50, out_features = 1)\n",
        "        \n",
        "    def forward(self, X):\n",
        "        \n",
        "        # Como o método vai receber os atributos previsores no formato (`batch` [posição 0], `n_timesteps` [1], `dimensions` [2]), vou usar o método permute para mudar as dimensões para o formato necessário (`n_timesteps` [posição original 1], `batch` [0], `dimensions´ [2]).\n",
        "        X = X.permute(1, 0, 2)\n",
        "        \n",
        "        # Cada camada LSTM produz um output (contendo as saídas para todos os timesteps) e um tuple contendo o estado da camada oculta e da célula. Como não vamos reciclar os valroes da camada oculta e da célula, estou descartando eles.    \n",
        "        X, _ = self.lstm1(X)\n",
        "        X = self.dropout(X)\n",
        "        X, _ = self.lstm2(X)\n",
        "        X = self.dropout(X)\n",
        "        X, _ = self.lstm3(X)\n",
        "        X = self.dropout(X)\n",
        "        X = self.linear(X)\n",
        "       \n",
        "        return X"
      ],
      "execution_count": null,
      "outputs": []
    },
    {
      "cell_type": "code",
      "metadata": {
        "id": "pJqCrc3cfLgg",
        "outputId": "246f5bc0-a656-4b2a-8116-7a4fd2793aa7",
        "colab": {
          "base_uri": "https://localhost:8080/"
        }
      },
      "source": [
        "device = torch.device('cuda') if torch.cuda.is_available else torch.device('cpu')\n",
        "device"
      ],
      "execution_count": null,
      "outputs": [
        {
          "output_type": "execute_result",
          "data": {
            "text/plain": [
              "device(type='cuda')"
            ]
          },
          "metadata": {},
          "execution_count": 17
        }
      ]
    },
    {
      "cell_type": "code",
      "metadata": {
        "id": "hShspfqhfUH5"
      },
      "source": [
        "regressor = regressor_LSTM()\n",
        "criterion = nn.MSELoss()\n",
        "optimizer = optim.Adam(regressor.parameters())"
      ],
      "execution_count": null,
      "outputs": []
    },
    {
      "cell_type": "code",
      "metadata": {
        "id": "-q2FbKBhffed",
        "outputId": "846ea70f-0eb4-4b39-d514-5a56af3ae917",
        "colab": {
          "base_uri": "https://localhost:8080/"
        }
      },
      "source": [
        "regressor.to(device)"
      ],
      "execution_count": null,
      "outputs": [
        {
          "output_type": "execute_result",
          "data": {
            "text/plain": [
              "regressor_LSTM(\n",
              "  (lstm1): LSTM(6, 100)\n",
              "  (lstm2): LSTM(100, 50)\n",
              "  (lstm3): LSTM(50, 50, num_layers=2, dropout=0.3)\n",
              "  (dropout): Dropout(p=0.3, inplace=False)\n",
              "  (linear): Linear(in_features=50, out_features=1, bias=True)\n",
              ")"
            ]
          },
          "metadata": {},
          "execution_count": 19
        }
      ]
    },
    {
      "cell_type": "markdown",
      "metadata": {
        "id": "appMwDHtRTN5"
      },
      "source": [
        "## Etapa 4: Treinamento do modelo"
      ]
    },
    {
      "cell_type": "code",
      "metadata": {
        "id": "OxqnJdUsELbQ",
        "outputId": "efc95292-2393-4e90-c1e1-cf59c5677c9f",
        "colab": {
          "base_uri": "https://localhost:8080/"
        }
      },
      "source": [
        "for epoch in range(100):\n",
        "    running_loss = 0.\n",
        "    running_mae = 0.\n",
        "          \n",
        "    for i, data in enumerate(loader):\n",
        "        inputs, labels = data\n",
        "        inputs, labels = inputs.to(device), labels.to(device)\n",
        "        \n",
        "        optimizer.zero_grad()\n",
        "        \n",
        "        outputs = regressor(inputs)\n",
        "        # Cada output contém previsões para os 10 timesteps (entre t = 1 e t = 11), nós só precisamos do último valor\n",
        "        outputs = outputs[-1]\n",
        "        \n",
        "        # Pra não ocasionar erro na hora de computador o custo, é melhor deixar os outputs e as labels no mesmo formato. Essa é a forma mais fácil de fazer isso:        \n",
        "        outputs = outputs.view(*labels.shape)\n",
        "        \n",
        "        loss = criterion(outputs, labels)\n",
        "        loss.backward()\n",
        "        \n",
        "        optimizer.step()\n",
        "    \n",
        "        running_loss += loss.item()\n",
        "        \n",
        "        # Determinando MAE     \n",
        "        mae = mean_absolute_error(labels.detach().cpu().numpy().flatten(), outputs.detach().cpu().numpy().flatten())\n",
        "        running_mae += mae\n",
        "        \n",
        "        # Imprimindo os dados referentes a esse loop\n",
        "        print('\\rÉpoca {:3d} - Loop {:3d} de {:3d}: perda {:03.5f} - MAE {:03.5f}'.format(epoch + 1, i + 1, len(loader), loss, mae), end = '\\r')\n",
        "    \n",
        "    # Imprimindo os dados referentes a essa época\n",
        "    print('\\rÉPOCA {:3d} FINALIZADA: perda {:.5f} - MAE {:.5f}          '.format(epoch + 1, running_loss/len(loader), running_mae/len(loader)))"
      ],
      "execution_count": null,
      "outputs": [
        {
          "output_type": "stream",
          "name": "stdout",
          "text": [
            "ÉPOCA   1 FINALIZADA: perda 0.00794 - MAE 0.06450          \n",
            "ÉPOCA   2 FINALIZADA: perda 0.00625 - MAE 0.05631          \n",
            "ÉPOCA   3 FINALIZADA: perda 0.00569 - MAE 0.05308          \n",
            "ÉPOCA   4 FINALIZADA: perda 0.00545 - MAE 0.05181          \n",
            "ÉPOCA   5 FINALIZADA: perda 0.00525 - MAE 0.05066          \n",
            "ÉPOCA   6 FINALIZADA: perda 0.00519 - MAE 0.05034          \n",
            "ÉPOCA   7 FINALIZADA: perda 0.00514 - MAE 0.05009          \n",
            "ÉPOCA   8 FINALIZADA: perda 0.00507 - MAE 0.04962          \n",
            "ÉPOCA   9 FINALIZADA: perda 0.00501 - MAE 0.04940          \n",
            "ÉPOCA  10 FINALIZADA: perda 0.00497 - MAE 0.04918          \n",
            "ÉPOCA  11 FINALIZADA: perda 0.00494 - MAE 0.04900          \n",
            "ÉPOCA  12 FINALIZADA: perda 0.00493 - MAE 0.04898          \n",
            "ÉPOCA  13 FINALIZADA: perda 0.00488 - MAE 0.04863          \n",
            "ÉPOCA  14 FINALIZADA: perda 0.00480 - MAE 0.04829          \n",
            "ÉPOCA  15 FINALIZADA: perda 0.00481 - MAE 0.04829          \n",
            "ÉPOCA  16 FINALIZADA: perda 0.00477 - MAE 0.04813          \n",
            "ÉPOCA  17 FINALIZADA: perda 0.00472 - MAE 0.04779          \n",
            "ÉPOCA  18 FINALIZADA: perda 0.00472 - MAE 0.04782          \n",
            "ÉPOCA  19 FINALIZADA: perda 0.00465 - MAE 0.04734          \n",
            "ÉPOCA  20 FINALIZADA: perda 0.00465 - MAE 0.04735          \n",
            "ÉPOCA  21 FINALIZADA: perda 0.00461 - MAE 0.04717          \n",
            "ÉPOCA  22 FINALIZADA: perda 0.00457 - MAE 0.04696          \n",
            "ÉPOCA  23 FINALIZADA: perda 0.00457 - MAE 0.04698          \n",
            "ÉPOCA  24 FINALIZADA: perda 0.00450 - MAE 0.04653          \n",
            "ÉPOCA  25 FINALIZADA: perda 0.00445 - MAE 0.04640          \n",
            "ÉPOCA  26 FINALIZADA: perda 0.00445 - MAE 0.04623          \n",
            "ÉPOCA  27 FINALIZADA: perda 0.00440 - MAE 0.04608          \n",
            "ÉPOCA  28 FINALIZADA: perda 0.00440 - MAE 0.04600          \n",
            "ÉPOCA  29 FINALIZADA: perda 0.00439 - MAE 0.04588          \n",
            "ÉPOCA  30 FINALIZADA: perda 0.00434 - MAE 0.04574          \n",
            "ÉPOCA  31 FINALIZADA: perda 0.00431 - MAE 0.04555          \n",
            "ÉPOCA  32 FINALIZADA: perda 0.00429 - MAE 0.04541          \n",
            "ÉPOCA  33 FINALIZADA: perda 0.00425 - MAE 0.04523          \n",
            "ÉPOCA  34 FINALIZADA: perda 0.00424 - MAE 0.04512          \n",
            "ÉPOCA  35 FINALIZADA: perda 0.00421 - MAE 0.04483          \n",
            "ÉPOCA  36 FINALIZADA: perda 0.00416 - MAE 0.04460          \n",
            "ÉPOCA  37 FINALIZADA: perda 0.00417 - MAE 0.04481          \n",
            "ÉPOCA  38 FINALIZADA: perda 0.00413 - MAE 0.04456          \n",
            "ÉPOCA  39 FINALIZADA: perda 0.00408 - MAE 0.04432          \n",
            "ÉPOCA  40 FINALIZADA: perda 0.00407 - MAE 0.04421          \n",
            "ÉPOCA  41 FINALIZADA: perda 0.00408 - MAE 0.04428          \n",
            "ÉPOCA  42 FINALIZADA: perda 0.00403 - MAE 0.04393          \n",
            "ÉPOCA  43 FINALIZADA: perda 0.00396 - MAE 0.04364          \n",
            "ÉPOCA  44 FINALIZADA: perda 0.00397 - MAE 0.04371          \n",
            "ÉPOCA  45 FINALIZADA: perda 0.00397 - MAE 0.04372          \n",
            "ÉPOCA  46 FINALIZADA: perda 0.00393 - MAE 0.04342          \n",
            "ÉPOCA  47 FINALIZADA: perda 0.00391 - MAE 0.04336          \n",
            "ÉPOCA  48 FINALIZADA: perda 0.00387 - MAE 0.04310          \n",
            "ÉPOCA  49 FINALIZADA: perda 0.00386 - MAE 0.04303          \n",
            "ÉPOCA  50 FINALIZADA: perda 0.00386 - MAE 0.04298          \n",
            "ÉPOCA  51 FINALIZADA: perda 0.00380 - MAE 0.04274          \n",
            "ÉPOCA  52 FINALIZADA: perda 0.00374 - MAE 0.04245          \n",
            "ÉPOCA  53 FINALIZADA: perda 0.00375 - MAE 0.04243          \n",
            "ÉPOCA  54 FINALIZADA: perda 0.00371 - MAE 0.04230          \n",
            "ÉPOCA  55 FINALIZADA: perda 0.00366 - MAE 0.04209          \n",
            "ÉPOCA  56 FINALIZADA: perda 0.00368 - MAE 0.04211          \n",
            "ÉPOCA  57 FINALIZADA: perda 0.00366 - MAE 0.04198          \n",
            "ÉPOCA  58 FINALIZADA: perda 0.00365 - MAE 0.04197          \n",
            "ÉPOCA  59 FINALIZADA: perda 0.00359 - MAE 0.04155          \n",
            "ÉPOCA  60 FINALIZADA: perda 0.00360 - MAE 0.04166          \n",
            "ÉPOCA  61 FINALIZADA: perda 0.00354 - MAE 0.04126          \n",
            "ÉPOCA  62 FINALIZADA: perda 0.00353 - MAE 0.04129          \n",
            "ÉPOCA  63 FINALIZADA: perda 0.00354 - MAE 0.04123          \n",
            "ÉPOCA  64 FINALIZADA: perda 0.00351 - MAE 0.04105          \n",
            "ÉPOCA  65 FINALIZADA: perda 0.00347 - MAE 0.04097          \n",
            "ÉPOCA  66 FINALIZADA: perda 0.00345 - MAE 0.04081          \n",
            "ÉPOCA  67 FINALIZADA: perda 0.00342 - MAE 0.04061          \n",
            "ÉPOCA  68 FINALIZADA: perda 0.00343 - MAE 0.04070          \n",
            "ÉPOCA  69 FINALIZADA: perda 0.00337 - MAE 0.04038          \n",
            "ÉPOCA  70 FINALIZADA: perda 0.00333 - MAE 0.04017          \n",
            "ÉPOCA  71 FINALIZADA: perda 0.00332 - MAE 0.04000          \n",
            "ÉPOCA  72 FINALIZADA: perda 0.00337 - MAE 0.04040          \n",
            "ÉPOCA  73 FINALIZADA: perda 0.00334 - MAE 0.04020          \n",
            "ÉPOCA  74 FINALIZADA: perda 0.00333 - MAE 0.04004          \n",
            "ÉPOCA  75 FINALIZADA: perda 0.00330 - MAE 0.03989          \n",
            "ÉPOCA  76 FINALIZADA: perda 0.00324 - MAE 0.03964          \n",
            "ÉPOCA  77 FINALIZADA: perda 0.00321 - MAE 0.03955          \n",
            "ÉPOCA  78 FINALIZADA: perda 0.00320 - MAE 0.03942          \n",
            "ÉPOCA  79 FINALIZADA: perda 0.00321 - MAE 0.03931          \n",
            "ÉPOCA  80 FINALIZADA: perda 0.00314 - MAE 0.03908          \n",
            "ÉPOCA  81 FINALIZADA: perda 0.00316 - MAE 0.03914          \n",
            "ÉPOCA  82 FINALIZADA: perda 0.00315 - MAE 0.03911          \n",
            "ÉPOCA  83 FINALIZADA: perda 0.00313 - MAE 0.03895          \n",
            "ÉPOCA  84 FINALIZADA: perda 0.00309 - MAE 0.03882          \n",
            "ÉPOCA  85 FINALIZADA: perda 0.00309 - MAE 0.03861          \n",
            "ÉPOCA  86 FINALIZADA: perda 0.00309 - MAE 0.03865          \n",
            "ÉPOCA  87 FINALIZADA: perda 0.00307 - MAE 0.03870          \n",
            "ÉPOCA  88 FINALIZADA: perda 0.00303 - MAE 0.03846          \n",
            "ÉPOCA  89 FINALIZADA: perda 0.00303 - MAE 0.03824          \n",
            "ÉPOCA  90 FINALIZADA: perda 0.00296 - MAE 0.03805          \n",
            "ÉPOCA  91 FINALIZADA: perda 0.00308 - MAE 0.03850          \n",
            "ÉPOCA  92 FINALIZADA: perda 0.00296 - MAE 0.03794          \n",
            "ÉPOCA  93 FINALIZADA: perda 0.00291 - MAE 0.03765          \n",
            "ÉPOCA  94 FINALIZADA: perda 0.00290 - MAE 0.03765          \n",
            "ÉPOCA  95 FINALIZADA: perda 0.00288 - MAE 0.03759          \n",
            "ÉPOCA  96 FINALIZADA: perda 0.00288 - MAE 0.03755          \n",
            "ÉPOCA  97 FINALIZADA: perda 0.00288 - MAE 0.03761          \n",
            "ÉPOCA  98 FINALIZADA: perda 0.00281 - MAE 0.03713          \n",
            "ÉPOCA  99 FINALIZADA: perda 0.00283 - MAE 0.03717          \n",
            "ÉPOCA 100 FINALIZADA: perda 0.00280 - MAE 0.03711          \n"
          ]
        }
      ]
    },
    {
      "cell_type": "markdown",
      "metadata": {
        "id": "AyTjLzELSdQF"
      },
      "source": [
        "## Etapa 5: Previsões\n",
        "\n",
        "- Não foi utilizada uma base de dados específica para teste, ou seja, as previsões forem feitas diretamente na base de treinamento\n",
        "\n"
      ]
    },
    {
      "cell_type": "code",
      "metadata": {
        "id": "qAO6SWgOS9-w"
      },
      "source": [
        "regressor.eval()\n",
        "previsoes = regressor(X.to(device))"
      ],
      "execution_count": null,
      "outputs": []
    },
    {
      "cell_type": "code",
      "metadata": {
        "id": "-xsoOPLRTBy2"
      },
      "source": [
        "# O modelo retorna valores para todos os timesteps, mas nós só estamos interessados no último timestep (t = 91), então vamos extrair o último valor.\n",
        "previsoes = previsoes[-1]\n",
        "previsoes = previsoes.detach().cpu().numpy().reshape(-1, 1)"
      ],
      "execution_count": null,
      "outputs": []
    },
    {
      "cell_type": "code",
      "metadata": {
        "id": "W106OwhFTHUu"
      },
      "source": [
        "normalizador = MinMaxScaler()\n",
        "normalizador.fit(poluicao)\n",
        "previsoes = normalizador.inverse_transform(previsoes)"
      ],
      "execution_count": null,
      "outputs": []
    },
    {
      "cell_type": "code",
      "metadata": {
        "id": "r5JsJNQ8TKQ9",
        "colab": {
          "base_uri": "https://localhost:8080/"
        },
        "outputId": "be6da36a-acd6-4d4d-80f8-89f04acedd52"
      },
      "source": [
        "# Verificação da média nos resultados das previsões e nos resultados reais\n",
        "previsoes.mean(), poluicao.mean()"
      ],
      "execution_count": null,
      "outputs": [
        {
          "output_type": "execute_result",
          "data": {
            "text/plain": [
              "(108.662155, 98.61321455085375)"
            ]
          },
          "metadata": {},
          "execution_count": 24
        }
      ]
    },
    {
      "cell_type": "code",
      "metadata": {
        "id": "nbSO5zXOTNo-",
        "colab": {
          "base_uri": "https://localhost:8080/",
          "height": 295
        },
        "outputId": "961b98b7-a8eb-4f1a-cf3b-d3978e1f2611"
      },
      "source": [
        "# Geração do gráfico. Será gerado um gráfico de barras porque temos muitos registros\n",
        "plt.plot(poluicao, color = 'red', label = 'Poluição real')\n",
        "plt.plot(previsoes, color = 'blue', label = 'Previsões')\n",
        "plt.title('Previsão poluição')\n",
        "plt.xlabel('Horas')\n",
        "plt.ylabel('Valor poluição')\n",
        "plt.legend()\n",
        "plt.show()"
      ],
      "execution_count": null,
      "outputs": [
        {
          "output_type": "display_data",
          "data": {
            "text/plain": [
              "<Figure size 432x288 with 1 Axes>"
            ],
            "image/png": "[encoded data removed]"
          },
          "metadata": {
            "needs_background": "light"
          }
        }
      ]
    }
  ]
}